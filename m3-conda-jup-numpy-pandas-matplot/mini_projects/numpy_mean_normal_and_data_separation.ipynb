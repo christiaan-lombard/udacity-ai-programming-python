{
 "cells": [
  {
   "cell_type": "markdown",
   "metadata": {},
   "source": [
    "# Mean Normalization\n",
    "\n",
    "In machine learning we use large amounts of data to train our models. Some machine learning algorithms may require that the data is *normalized* in order to work correctly. The idea of normalization, also known as *feature scaling*, is to ensure that all the data is on a similar scale, *i.e.* that all the data takes on a similar range of values. For example, we might have a dataset that has values between 0 and 5,000. By normalizing the data we can make the range of values be between 0 and 1.\n",
    "\n",
    "In this lab, you will be performing a different kind of feature scaling known as *mean normalization*. Mean normalization will scale the data, but instead of making the values be between 0 and 1, it will distribute the values evenly in some small interval around zero. For example, if we have a dataset that has values between 0 and 5,000, after mean normalization the range of values will be distributed in some small range around 0, for example between -3 to 3. Because the range of values are distributed evenly around zero, this guarantees that the average (mean) of all elements will be zero. Therefore, when you perform *mean normalization* your data will not only be scaled but it will also have an average of zero. \n",
    "\n",
    "# To Do:\n",
    "\n",
    "You will start by importing NumPy and creating a rank 2 ndarray of random integers between 0 and 5,000 (inclusive) with 1000 rows and 20 columns. This array will simulate a dataset with a wide range of values. Fill in the code below"
   ]
  },
  {
   "cell_type": "code",
   "execution_count": 15,
   "metadata": {},
   "outputs": [
    {
     "output_type": "stream",
     "name": "stdout",
     "text": [
      "[[3626 4654 3385 ... 2172 1649 4241]\n [4885  227 1771 ... 1199   37 2903]\n [1963 2602 3467 ... 2634 1667 1106]\n ...\n [ 343 3907 4488 ...   54 1216 1169]\n [1394 4606 3796 ... 3877 2197 4705]\n [1298 3293 3311 ... 1651 4431 1478]]\n(1000, 20)\n"
     ]
    }
   ],
   "source": [
    "# import NumPy into Python\n",
    "import numpy as np\n",
    "\n",
    "# Create a 1000 x 20 ndarray with random integers in the half-open interval [0, 5001).\n",
    "X = np.random.randint(0, 5001, size=(1000,20))\n",
    "print(X)\n",
    "\n",
    "# print the shape of X\n",
    "print(X.shape)"
   ]
  },
  {
   "cell_type": "markdown",
   "metadata": {},
   "source": [
    "Now that you created the array we will mean normalize it. We will perform mean normalization using the following equation:\n",
    "\n",
    "$\\mbox{Norm_Col}_i = \\frac{\\mbox{Col}_i - \\mu_i}{\\sigma_i}$\n",
    "\n",
    "where $\\mbox{Col}_i$ is the $i$th column of $X$, $\\mu_i$ is average of the values in the $i$th column of $X$, and $\\sigma_i$ is the standard deviation of the values in the $i$th column of $X$. In other words, mean normalization is performed by subtracting from each column of $X$ the average of its values, and then by dividing by the standard deviation of its values. In the space below, you will first calculate the average and standard deviation of each column of $X$. "
   ]
  },
  {
   "cell_type": "code",
   "execution_count": 16,
   "metadata": {},
   "outputs": [
    {
     "output_type": "stream",
     "name": "stdout",
     "text": [
      "[2408.407 2452.799 2515.491 2489.561 2539.863 2490.677 2466.815 2516.166\n 2445.649 2542.257 2472.652 2524.653 2520.539 2483.974 2476.303 2544.862\n 2497.276 2443.415 2540.145 2480.836]\n[1435.56252018 1460.96956252 1465.81462058 1469.31949156 1457.9693228\n 1417.74292404 1461.55797996 1428.88905743 1433.20671007 1438.3184164\n 1413.04581698 1427.45695227 1442.48221981 1444.9623799  1458.99179134\n 1429.62579613 1435.50875296 1457.24391876 1427.54405325 1414.83678603]\n"
     ]
    }
   ],
   "source": [
    "# Average of the values in each column of X\n",
    "ave_cols = np.mean(X, axis=0)\n",
    "\n",
    "print(ave_cols)\n",
    "\n",
    "# Standard Deviation of the values in each column of X\n",
    "std_cols = np.std(X, axis=0)\n",
    "\n",
    "print(std_cols)"
   ]
  },
  {
   "cell_type": "markdown",
   "metadata": {},
   "source": [
    "If you have done the above calculations correctly, then `ave_cols` and `std_cols`, should both be vectors with shape `(20,)` since $X$ has 20 columns. You can verify this by filling the code below:"
   ]
  },
  {
   "cell_type": "code",
   "execution_count": 17,
   "metadata": {},
   "outputs": [
    {
     "output_type": "stream",
     "name": "stdout",
     "text": [
      "(20,)\n(20,)\n"
     ]
    }
   ],
   "source": [
    "# Print the shape of ave_cols\n",
    "print( ave_cols.shape )\n",
    "\n",
    "# Print the shape of std_cols\n",
    "print( std_cols.shape ) \n"
   ]
  },
  {
   "cell_type": "markdown",
   "metadata": {},
   "source": [
    "You can now take advantage of Broadcasting to calculate the mean normalized version of $X$ in just one line of code using the equation above. Fill in the code below"
   ]
  },
  {
   "cell_type": "code",
   "execution_count": 18,
   "metadata": {},
   "outputs": [
    {
     "output_type": "stream",
     "name": "stdout",
     "text": [
      "[[ 0.84816438  1.50667136  0.59319165 ... -0.18625228 -0.62425044\n   1.24407565]\n [ 1.72517251 -1.52350813 -0.50790256 ... -0.85395107 -1.75346252\n   0.29838353]\n [-0.31026653  0.10212465  0.64913324 ...  0.13078456 -0.61164137\n  -0.97172763]\n ...\n [-1.43874403  0.99536707  1.34567426 ... -1.63968089 -0.92756857\n  -0.92719953]\n [-0.70662683  1.47381647  0.87358182 ...  0.98376461 -0.24037437\n   1.57202868]\n [-0.77349958  0.57509822  0.54270778 ... -0.5437765   1.32455107\n  -0.70879978]]\n"
     ]
    }
   ],
   "source": [
    "# Mean normalize X\n",
    "X_norm = (X - ave_cols) / std_cols\n",
    "\n",
    "print(X_norm)"
   ]
  },
  {
   "cell_type": "markdown",
   "metadata": {},
   "source": [
    "If you have performed the mean normalization correctly, then the average of all the elements in $X_{\\tiny{\\mbox{norm}}}$ should be close to zero, and they should be evenly distributed in some small interval around zero. You can verify this by filing the code below:"
   ]
  },
  {
   "cell_type": "code",
   "execution_count": 19,
   "metadata": {},
   "outputs": [
    {
     "output_type": "stream",
     "name": "stdout",
     "text": [
      "-4.263256414560601e-18\n-1.7275608849810968\n1.737236422640774\n"
     ]
    }
   ],
   "source": [
    "# Print the average of all the values of X_norm\n",
    "avg = np.mean(X_norm)\n",
    "print(avg)\n",
    "\n",
    "# Print the average of the minimum value in each column of X_norm\n",
    "mini = np.mean(np.min(X_norm, axis=0))\n",
    "print(mini)\n",
    "\n",
    "# Print the average of the maximum value in each column of X_norm\n",
    "maxi = np.mean(np.max(X_norm, axis=0))\n",
    "print(maxi)"
   ]
  },
  {
   "cell_type": "markdown",
   "metadata": {},
   "source": [
    "You should note that since $X$ was created using random integers, the above values will vary. \n",
    "\n",
    "# Data Separation\n",
    "\n",
    "After the data has been mean normalized, it is customary in machine learnig to split our dataset into three sets:\n",
    "\n",
    "1. A Training Set\n",
    "2. A Cross Validation Set\n",
    "3. A Test Set\n",
    "\n",
    "The dataset is usually divided such that the Training Set contains 60% of the data, the Cross Validation Set contains 20% of the data, and the Test Set contains 20% of the data. \n",
    "\n",
    "In this part of the lab you will separate `X_norm` into a Training Set, Cross Validation Set, and a Test Set. Each data set will contain rows of `X_norm` chosen at random, making sure that we don't pick the same row twice. This will guarantee that all the rows of `X_norm` are chosen and randomly distributed among the three new sets.\n",
    "\n",
    "You will start by creating a rank 1 ndarray that contains a random permutation of the row indices of `X_norm`. You can do this by using the `np.random.permutation()` function. The `np.random.permutation(N)` function creates a random permutation of integers from 0 to `N - 1`. Let's see an example:"
   ]
  },
  {
   "cell_type": "code",
   "execution_count": 22,
   "metadata": {},
   "outputs": [
    {
     "output_type": "execute_result",
     "data": {
      "text/plain": [
       "array([0, 3, 2, 4, 1])"
      ]
     },
     "metadata": {},
     "execution_count": 22
    }
   ],
   "source": [
    "# We create a random permutation of integers 0 to 4\n",
    "np.random.permutation(5)"
   ]
  },
  {
   "cell_type": "markdown",
   "metadata": {},
   "source": [
    "# To Do\n",
    "\n",
    "In the space below create a rank 1 ndarray that contains a random permutation of the row indices of `X_norm`. You can do this in one line of code by extracting the number of rows of `X_norm` using the `shape` attribute and then passing it to the  `np.random.permutation()` function. Remember the `shape` attribute returns a tuple with two numbers in the form `(rows,columns)`."
   ]
  },
  {
   "cell_type": "code",
   "execution_count": 31,
   "metadata": {},
   "outputs": [
    {
     "output_type": "stream",
     "name": "stdout",
     "text": [
      "[199 430 236 570 585 413 624  20 311 591 425 544 558 323 259  53 571 225\n 393  46 316 388 221 390 928 529 535 857 380 511  15 439 720 489 492 469\n 951 603 907 632 828 971 694 404 867  24 105 937 668 169 934 128 373 650\n 251 972  21 882 689 223  79 760 317 656 729 711 791 709 186 191 981 524\n 395 773 789 305  47  34 449 295 759 495  86 637 414 182 655 133 261 173\n  43 712 429   5 834 947 697 665 410 963 663 876 431 550 800 214 910 865\n 672  25 761  23 945 980 942 921 427 629 171  52 461 386 308 358 874 866\n 325 192 279 690 633 121 911 872 455 130 244 331 324 420 372 284 156 744\n 285  30 605 997 932 909 856 715 567 576 260 854  13 269 908 795 753 770\n 974 734 398 467 885 454 434 831 200 838 377 302  58 925 612 452  93 582\n 914 277  11 676 155  50 818 505 792 657 660 357 416 751 955 580 504 557\n 680 523 695 816 253 614 470 881 384 336 100 829 853  49 202 767 183 587\n 180 212 138 887  77 179 378 641 292 339 220 742 966 487 490 894 385 164\n 328 266 243 545 415 991 899 851 878 888 197 993 109 498  92 716 162  28\n 516 683 552 805 510 407 104 926 145 664 708 482 363 167 116 802 681 468\n 958 796 520 573 757 254 755 166 368 344 737 745 973 731 678 938 722  41\n 766 519 869 262 990 698 855  97 590  87 931  38 652 787 526 837  76 594\n 827 120 813 705 530 746 684 814 306 231 271 293 371 438 507 241 797 283\n 437 968 456 826 327 205 297 625 583  75 157 803 247 111 843 666 257  26\n 631 688 821 935  42 733 842 610 983 536 559 338 952 122 355 956 346 599\n 896 578 401 696 375 457 597   4 275 168 717 286 982 903 281 472 613 356\n 602 635 459   2 732 943 556 239 450 412 233  63 912  44 471 509 207 841\n 424 785 458 396 476 464 848  91 835 447 936 353 234 704 661 151 713 119\n 799 640 364 312 604 213 161  37 870  22 930 144 743 335 453 403 345 113\n 408 432 825 423  90 642 365 273 940 238 337 329 209 915 178 428 617 765\n 723 933 850 406 918 868 671 270 824 391 691 574  78 135 858 435 442  54\n 298 833 137 808 879 615 321 477 647 466 996 107 579  12 819 226 150 319\n  57 446 953 989 102 901 475 754 822 131 153 193 682 110 562  66 849 543\n 170 152 807 481 730 296 493 187 830 494 290 563 146 948  39  89 198 793\n 589 310 677 228 227 636 514 962 392  80 117 334 555 565  10 250 118 394\n 499 421 606  99 462 326  67 859 719 804 190 595 175 513 739 775 517 436\n 342 904 242  60 177 790 877 658 340 515 540 554 922 674 592 860 546 609\n 333 287 460 627 534 886 654 143 154 598 379 786  56 863 399 994 124 533\n 160 272 794  69 229 518 397 176  81 525 108 224 884 125 988 984  29 362\n 967 622 165   9  55 506 188 568 433 252 106 159 382 541 845  82 727 959\n 777 265 521 322 806 497  51 249 343  32 893  31 692 473  74 811 634 347\n 422 639 532 185 405 756 768 547 141 129 246 714 701 538 840 496 488  40\n 222 359 174 318 941 158 189 769 348  19  27 402 748 232 651 289  95 387\n 501 237   1 376 801 230  36 503 195 788 465 906 309 964 596 628 276 924\n 369  35 778 294 588 112 891 315 659 304 278 774 832 817 798 875 443 196\n  71 810 954 201 211 210 400 248 411 268 844 950 750 267 418 370 572 895\n 707 706  83 864 149 206 944  72 608 619 763 383 522 623 764 957  61 839\n 923   8  62 917 581 126 913 103 645 929  88 752 618 836  68 784 374 710\n 274 512 862 693 474 638 448 916 381 600 812 970 995 181 626 969 463 548\n  64 998 721 880 245 314 537 735  84 700 724 871 823 140 291 601 646  98\n 575 949 611 584 367 480 148 208 649  16 569 566 204 240 897 961 977 478\n 741 528 486 776 451 679 127 703 946 905 648 889 132 142 218 440  59 134\n 263  14  48   0 491  73  18 123 820 163 256 919 987 217  96 920 643 542\n 749 762 419 502  45 978 115 726 747 670 758 216 235 992 539 136 389 417\n 320 409 444 736 350 667 686 669 301 219 114  17 687 960 313 653 441 782\n 139 644   7 349  65 976 809 898 101 341 783 675 607 902 215 194 738 900\n 484 673 549 508 965 699 725 203 815   3 986 620 560 282 780 360 702 172\n   6 630 975 861 772 288 264 985 255 366 184 479 846 300 307 361 483 564\n 485 561 593 781 890 873 979 771 577  94 852  33 927 847 551 531 354 999\n 621 426 332 500  85 147 527 303 352 662 883 445 258 779 740 330 280 351\n 586 299 718 728  70 616 892 553 685 939]\n"
     ]
    }
   ],
   "source": [
    "# Create a rank 1 ndarray that contains a random permutation of the row indices of `X_norm`\n",
    "row_indices = np.random.permutation(X.shape[0])\n",
    "print(row_indices)"
   ]
  },
  {
   "cell_type": "markdown",
   "metadata": {},
   "source": [
    "Now you can create the three datasets using the `row_indices` ndarray to select the rows that will go into each dataset. Rememeber that the Training Set contains 60% of the data, the Cross Validation Set contains 20% of the data, and the Test Set contains 20% of the data. Each set requires just one line of code to create. Fill in the code below"
   ]
  },
  {
   "cell_type": "code",
   "execution_count": 35,
   "metadata": {},
   "outputs": [
    {
     "output_type": "stream",
     "name": "stdout",
     "text": [
      "Training data [0, 600]\n[[4865 4262 3760 ...   75 3749 1520]\n [ 811 2376 2365 ... 4302 1365 4534]\n [4050 1671 2143 ...  965 2682 2267]\n ...\n [2697  920 4701 ... 4437 1532 2236]\n [1828 2273 3943 ... 1535 4283 3479]\n [ 287 2761 4702 ...  299 4436  605]]\nCross Validation data [600, 800]\n[[1957 2308 1539 ... 3320 1764 2987]\n [  76 3232  749 ... 1954 3393 1087]\n [4291 3877 4182 ...   97 3899 2417]\n ...\n [4409  441 4395 ... 2281 4349 1539]\n [3802  760 4868 ...  553 4723 4294]\n [1572 4750 2716 ... 4537 4110 2957]]\nTest data [800, 1000]\n[[2216 4901 4453 ...  784 3942 2976]\n [ 121 4743 3367 ... 2193 2457 1747]\n [2946  287 3177 ... 3721  498 3521]\n ...\n [ 713 2094  517 ...  282 3165 1152]\n [4760  655 4620 ... 4281 1947 2373]\n [2470 4343 4129 ... 1172 4415  308]]\n"
     ]
    }
   ],
   "source": [
    "# Make any necessary calculations.\n",
    "# You can save your calculations into variables to use later.\n",
    "\n",
    "\n",
    "# Create a Training Set\n",
    "print('Training data [%d, %d]'%(0,int(0.6 * row_indices.size)))\n",
    "X_train = X[row_indices[0:int(0.6 * row_indices.size)], :]\n",
    "print(X_train)\n",
    "\n",
    "# Create a Cross Validation Set\n",
    "print('Cross Validation data [%d, %d]'%(int(0.6 * row_indices.size),int(0.8 * row_indices.size)))\n",
    "X_crossVal = X[row_indices[int(0.6 * row_indices.size):int(0.8 * row_indices.size)], :]\n",
    "print(X_crossVal)\n",
    "\n",
    "# Create a Test Set\n",
    "print('Test data [%d, %d]'%(int(0.8 * row_indices.size),row_indices.size))\n",
    "X_test = X[row_indices[int(0.8 * row_indices.size):row_indices.size], :]\n",
    "print(X_test)"
   ]
  },
  {
   "cell_type": "markdown",
   "metadata": {},
   "source": [
    "If you performed the above calculations correctly, then `X_tain` should have 600 rows and 20 columns, `X_crossVal` should have 200 rows and 20 columns, and `X_test` should have 200 rows and 20 columns. You can verify this by filling the code below:"
   ]
  },
  {
   "cell_type": "code",
   "execution_count": 36,
   "metadata": {},
   "outputs": [
    {
     "output_type": "stream",
     "name": "stdout",
     "text": [
      "Shape of X_train:  (600, 20)\nShape of X_crossVal:  (200, 20)\nShape of X_test:  (200, 20)\n"
     ]
    }
   ],
   "source": [
    "# Print the shape of X_train\n",
    "print(\"Shape of X_train: \", X_train.shape)\n",
    "\n",
    "# Print the shape of X_crossVal\n",
    "print(\"Shape of X_crossVal: \", X_crossVal.shape)\n",
    "\n",
    "# Print the shape of X_test\n",
    "print(\"Shape of X_test: \", X_test.shape)"
   ]
  },
  {
   "cell_type": "code",
   "execution_count": null,
   "metadata": {},
   "outputs": [],
   "source": []
  }
 ],
 "metadata": {
  "kernelspec": {
   "display_name": "Python 3",
   "language": "python",
   "name": "python3"
  },
  "language_info": {
   "codemirror_mode": {
    "name": "ipython",
    "version": 3
   },
   "file_extension": ".py",
   "mimetype": "text/x-python",
   "name": "python",
   "nbconvert_exporter": "python",
   "pygments_lexer": "ipython3",
   "version": "3.8.5-final"
  }
 },
 "nbformat": 4,
 "nbformat_minor": 2
}