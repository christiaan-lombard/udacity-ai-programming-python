{
 "cells": [
  {
   "cell_type": "markdown",
   "metadata": {},
   "source": [
    "# NumPy\n",
    "\n",
    "*NumPy stands for Numerical Python and it's a fundamental package for scientific computing in Python. NumPy provides Python with an extensive math library capable of performing numerical computations effectively and efficiently.*\n",
    "\n",
    "## Download\n",
    "\n",
    "NumPy (v 1.13.0) is included with Anaconda.\n",
    "\n",
    "Install specific version:\n",
    "\n",
    "```sh\n",
    "# Use either one command\n",
    "conda install numpy=X.XX\n",
    "pip install --upgrade numpy==X.XX\n",
    "```\n",
    "\n",
    "## Docs\n",
    "\n",
    "*NumPy is a remarkable math library and it has many functions and features. In these introductory lessons, we will only scratch the surface of what NumPy can do. If you want to learn more about NumPy, make sure you check out the NumPy Documentation:*\n",
    "\n",
    " - [NumPy Manual](https://docs.scipy.org/doc/numpy-1.13.0/contents.html)\n",
    " - [NumPy User Guide](https://numpy.org/devdocs/user/index.html)\n",
    " - [NumPy Reference](https://numpy.org/devdocs/reference/index.html)\n",
    " - [Scipy Lectures](http://www.scipy-lectures.org/intro/numpy/index.html)\n",
    "\n"
   ]
  },
  {
   "cell_type": "code",
   "execution_count": 14,
   "metadata": {},
   "outputs": [
    {
     "name": "stdout",
     "output_type": "stream",
     "text": [
      "1.673401117324829\n",
      "0.009000062942504883\n"
     ]
    }
   ],
   "source": [
    "# Why use NumPy?\n",
    "import time\n",
    "import numpy as np\n",
    "x = np.random.random(10000000)\n",
    "\n",
    "# Case 1\n",
    "start = time.time()\n",
    "sum(x) / len(x)\n",
    "print(time.time() - start)\n",
    "\n",
    "# Case 2\n",
    "start = time.time()\n",
    "np.mean(x)\n",
    "print(time.time() - start)"
   ]
  },
  {
   "cell_type": "markdown",
   "metadata": {},
   "source": [
    "## Features\n",
    "\n",
    "*Even though Python lists are great on their own, NumPy has a number of key features that give it great advantages over Python lists. Below are a few convincingly strong features:*\n",
    "\n",
    "- One such feature is **speed**. When performing operations on large arrays NumPy can often perform several orders of magnitude faster than Python lists. This speed comes from the nature of NumPy arrays being memory-efficient and from optimized algorithms used by NumPy for doing arithmetic, statistical, and linear algebra operations.\n",
    "\n",
    "- Another great feature of NumPy is that it has **multidimensional array data structures** that can represent vectors and matrices. You will learn all about vectors and matrices in the Linear Algebra section of this course later on, and as you will soon see, a lot of machine learning algorithms rely on matrix operations. For example, when training a Neural Network, you often have to carry out many matrix multiplications. NumPy is optimized for matrix operations and it allows us to do Linear Algebra operations effectively and efficiently, making it very suitable for solving machine learning problems.\n",
    "\n",
    "- Another great advantage of NumPy over Python lists is that NumPy has a large number of **optimized built-in mathematical functions**. These functions allow you to do a variety of complex mathematical computations very fast and with very little code (avoiding the use of complicated loops) making your programs more readable and easier to understand.\n",
    "\n",
    " - [The NumPy array: a structure for efficient numerical computation](https://hal.inria.fr/inria-00564007/document)\n",
    " \n",
    " \n",
    " ### 1-Dimensional array:"
   ]
  },
  {
   "cell_type": "code",
   "execution_count": 22,
   "metadata": {},
   "outputs": [
    {
     "name": "stdout",
     "output_type": "stream",
     "text": [
      "[1 2 3 4 5]\n",
      "<class 'numpy.ndarray'>\n"
     ]
    }
   ],
   "source": [
    "d1 = np.array([1,2,3,4,5])\n",
    "\n",
    "print(d1)\n",
    "print(type(d1))\n",
    "print(d2.dtype)"
   ]
  },
  {
   "cell_type": "markdown",
   "metadata": {},
   "source": [
    "### 2-Dimensional array:"
   ]
  },
  {
   "cell_type": "code",
   "execution_count": 23,
   "metadata": {},
   "outputs": [
    {
     "name": "stdout",
     "output_type": "stream",
     "text": [
      "[[1 2 3]\n",
      " [4 5 6]\n",
      " [7 8 9]]\n",
      "<class 'numpy.ndarray'>\n",
      "int64\n",
      "(3, 3)\n"
     ]
    }
   ],
   "source": [
    "\n",
    "d2 = np.array([\n",
    "    [1,2,3],\n",
    "    [4,5,6],\n",
    "    [7,8,9]\n",
    "], dtype =np.int64)\n",
    "\n",
    "print(d2)\n",
    "print(type(d2))\n",
    "print(d2.dtype)\n"
   ]
  },
  {
   "cell_type": "markdown",
   "metadata": {},
   "source": [
    "### String array:"
   ]
  },
  {
   "cell_type": "code",
   "execution_count": 17,
   "metadata": {},
   "outputs": [
    {
     "name": "stdout",
     "output_type": "stream",
     "text": [
      "['Hello' 'World']\n",
      "<class 'numpy.ndarray'>\n",
      "<U5\n",
      "(2,)\n"
     ]
    }
   ],
   "source": [
    "\n",
    "strings = np.array(['Hello', 'World'])\n",
    "\n",
    "print(strings)\n",
    "print(type(strings))\n",
    "print(strings.dtype)\n",
    "\n"
   ]
  },
  {
   "cell_type": "markdown",
   "metadata": {},
   "source": [
    "## Shape\n",
    "\n",
    "NumPy arrays have a shape to represent the array dimensions. The shape of an array is the size along each of its dimensions. For example, the shape of a rank 2 array will correspond to the number of rows and columns of the array."
   ]
  },
  {
   "cell_type": "code",
   "execution_count": 24,
   "metadata": {},
   "outputs": [
    {
     "name": "stdout",
     "output_type": "stream",
     "text": [
      "(5,)\n",
      "(2,)\n",
      "(3, 3)\n"
     ]
    }
   ],
   "source": [
    "\n",
    "print(d1.shape)\n",
    "print(d2.shape)\n",
    "print(strings.shape)"
   ]
  },
  {
   "cell_type": "code",
   "execution_count": null,
   "metadata": {},
   "outputs": [],
   "source": []
  }
 ],
 "metadata": {
  "kernelspec": {
   "display_name": "Python 3",
   "language": "python",
   "name": "python3"
  },
  "language_info": {
   "codemirror_mode": {
    "name": "ipython",
    "version": 3
   },
   "file_extension": ".py",
   "mimetype": "text/x-python",
   "name": "python",
   "nbconvert_exporter": "python",
   "pygments_lexer": "ipython3",
   "version": "3.8.5"
  }
 },
 "nbformat": 4,
 "nbformat_minor": 4
}
