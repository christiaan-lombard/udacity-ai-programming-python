{
 "cells": [
  {
   "cell_type": "markdown",
   "metadata": {},
   "source": [
    "# NumPy\n",
    "\n",
    "*NumPy stands for Numerical Python and it's a fundamental package for scientific computing in Python. NumPy provides Python with an extensive math library capable of performing numerical computations effectively and efficiently.*\n",
    "\n",
    "## Download\n",
    "\n",
    "NumPy (v 1.13.0) is included with Anaconda.\n",
    "\n",
    "Install specific version:\n",
    "\n",
    "```sh\n",
    "# Use either one command\n",
    "conda install numpy=X.XX\n",
    "pip install --upgrade numpy==X.XX\n",
    "```\n",
    "\n",
    "## Docs\n",
    "\n",
    "*NumPy is a remarkable math library and it has many functions and features. In these introductory lessons, we will only scratch the surface of what NumPy can do. If you want to learn more about NumPy, make sure you check out the NumPy Documentation:*\n",
    "\n",
    " - [NumPy Manual](https://docs.scipy.org/doc/numpy-1.13.0/contents.html)\n",
    " - [NumPy User Guide](https://numpy.org/devdocs/user/index.html)\n",
    " - [NumPy Reference](https://numpy.org/devdocs/reference/index.html)\n",
    " - [Scipy Lectures](http://www.scipy-lectures.org/intro/numpy/index.html)\n",
    "\n"
   ]
  },
  {
   "cell_type": "code",
   "execution_count": 1,
   "metadata": {
    "tags": []
   },
   "outputs": [
    {
     "output_type": "stream",
     "name": "stdout",
     "text": [
      "sum(x) / len(x): 1.61402s\nnumpy.mean(x): 0.01000s\n"
     ]
    }
   ],
   "source": [
    "# Why use NumPy?\n",
    "import time\n",
    "import numpy as np\n",
    "x = np.random.random(10000000)\n",
    "\n",
    "# Case 1\n",
    "start = time.time()\n",
    "sum(x) / len(x)\n",
    "print(\"sum(x) / len(x): %.5fs\" % (time.time() - start))\n",
    "\n",
    "# Case 2\n",
    "start = time.time()\n",
    "np.mean(x)\n",
    "print(\"numpy.mean(x): %.5fs\" % (time.time() - start))"
   ]
  },
  {
   "cell_type": "markdown",
   "metadata": {},
   "source": [
    "## Features\n",
    "\n",
    "*Even though Python lists are great on their own, NumPy has a number of key features that give it great advantages over Python lists. Below are a few convincingly strong features:*\n",
    "\n",
    "- One such feature is **speed**. When performing operations on large arrays NumPy can often perform several orders of magnitude faster than Python lists. This speed comes from the nature of NumPy arrays being memory-efficient and from optimized algorithms used by NumPy for doing arithmetic, statistical, and linear algebra operations.\n",
    "\n",
    "- Another great feature of NumPy is that it has **multidimensional array data structures** that can represent vectors and matrices. You will learn all about vectors and matrices in the Linear Algebra section of this course later on, and as you will soon see, a lot of machine learning algorithms rely on matrix operations. For example, when training a Neural Network, you often have to carry out many matrix multiplications. NumPy is optimized for matrix operations and it allows us to do Linear Algebra operations effectively and efficiently, making it very suitable for solving machine learning problems.\n",
    "\n",
    "- Another great advantage of NumPy over Python lists is that NumPy has a large number of **optimized built-in mathematical functions**. These functions allow you to do a variety of complex mathematical computations very fast and with very little code (avoiding the use of complicated loops) making your programs more readable and easier to understand.\n",
    "\n",
    " - [The NumPy array: a structure for efficient numerical computation](https://hal.inria.fr/inria-00564007/document)\n",
    " \n",
    " \n",
    "### 1-Dimensional array:"
   ]
  },
  {
   "cell_type": "code",
   "execution_count": 2,
   "metadata": {
    "tags": []
   },
   "outputs": [
    {
     "output_type": "stream",
     "name": "stdout",
     "text": [
      "[1 2 3 4 5]\n<class 'numpy.ndarray'>\n"
     ]
    }
   ],
   "source": [
    "d1 = np.array([1,2,3,4,5])\n",
    "\n",
    "print(d1)\n",
    "print(type(d1))"
   ]
  },
  {
   "cell_type": "markdown",
   "metadata": {},
   "source": [
    "### 2-Dimensional array:"
   ]
  },
  {
   "cell_type": "code",
   "execution_count": 3,
   "metadata": {
    "tags": []
   },
   "outputs": [
    {
     "output_type": "stream",
     "name": "stdout",
     "text": [
      "[[1 2 3]\n [4 5 6]\n [7 8 9]]\n<class 'numpy.ndarray'>\n"
     ]
    }
   ],
   "source": [
    "d2 = np.array([\n",
    "    [1,2,3],\n",
    "    [4,5,6],\n",
    "    [7,8,9]\n",
    "], dtype =np.int64)\n",
    "\n",
    "print(d2)\n",
    "print(type(d2))"
   ]
  },
  {
   "cell_type": "markdown",
   "metadata": {},
   "source": [
    "### String array:"
   ]
  },
  {
   "cell_type": "code",
   "execution_count": 4,
   "metadata": {
    "tags": []
   },
   "outputs": [
    {
     "output_type": "stream",
     "name": "stdout",
     "text": [
      "['Hello' 'World']\n<class 'numpy.ndarray'>\n"
     ]
    }
   ],
   "source": [
    "strings = np.array(['Hello', 'World'])\n",
    "\n",
    "print(strings)\n",
    "print(type(strings))"
   ]
  },
  {
   "cell_type": "markdown",
   "metadata": {},
   "source": [
    "### Shape\n",
    "\n",
    "NumPy arrays have a [shape](https://numpy.org/devdocs/reference/generated/numpy.shape.html) to represent the array dimensions. The shape of an array is the size along each of its dimensions. For example, the shape of a rank 2 array will correspond to the number of rows and columns of the array."
   ]
  },
  {
   "cell_type": "code",
   "execution_count": 5,
   "metadata": {
    "tags": []
   },
   "outputs": [
    {
     "output_type": "stream",
     "name": "stdout",
     "text": [
      "(5,)\n(3, 3)\n(2,)\n"
     ]
    }
   ],
   "source": [
    "# print shapes\n",
    "print(d1.shape)\n",
    "print(d2.shape)\n",
    "print(strings.shape)"
   ]
  },
  {
   "cell_type": "markdown",
   "metadata": {},
   "source": [
    "### Data Type\n",
    "\n",
    "The [type](https://numpy.org/doc/stable/reference/arrays.dtypes.html) tells us the data-type of the elements. Remember, a NumPy array is homogeneous, meaning all elements will have the same data-type.\n",
    "\n",
    "- [List of NumPy data types](https://docs.scipy.org/doc/numpy-1.13.0/user/basics.types.html)"
   ]
  },
  {
   "cell_type": "code",
   "execution_count": 6,
   "metadata": {
    "tags": []
   },
   "outputs": [
    {
     "output_type": "stream",
     "name": "stdout",
     "text": [
      "int32\nint64\n<U5\n"
     ]
    }
   ],
   "source": [
    "print(d1.dtype)\n",
    "print(d2.dtype)\n",
    "print(strings.dtype)"
   ]
  },
  {
   "cell_type": "markdown",
   "metadata": {},
   "source": [
    "### Size\n",
    "\n",
    "The size attribute returns the number of elements in the array, eg. columns x rows for a 2d array.\n"
   ]
  },
  {
   "cell_type": "code",
   "execution_count": 7,
   "metadata": {
    "tags": []
   },
   "outputs": [
    {
     "output_type": "stream",
     "name": "stdout",
     "text": [
      "5\n9\n"
     ]
    }
   ],
   "source": [
    "print(d1.size)\n",
    "print(d2.size)"
   ]
  },
  {
   "cell_type": "markdown",
   "metadata": {},
   "source": [
    "### Convert Array to File\n",
    "\n",
    "Once you create an ndarray, you may want to save it to a file to be read later or to be used by another program.\n"
   ]
  },
  {
   "cell_type": "code",
   "execution_count": 8,
   "metadata": {
    "tags": []
   },
   "outputs": [
    {
     "output_type": "stream",
     "name": "stdout",
     "text": [
      "Saved array to file\n"
     ]
    }
   ],
   "source": [
    "# Save array to file\n",
    "\n",
    "# We create a rank 1 ndarray\n",
    "x = np.array([1, 2, 3, 4, 5])\n",
    "\n",
    "# We save x into the current directory as \n",
    "np.save('my_array.npy', x)\n",
    "\n",
    "print('Saved array to file')"
   ]
  },
  {
   "cell_type": "code",
   "execution_count": 9,
   "metadata": {
    "tags": []
   },
   "outputs": [
    {
     "output_type": "stream",
     "name": "stdout",
     "text": [
      "[1 2 3 4 5] int32\n"
     ]
    }
   ],
   "source": [
    "# Load array from file\n",
    "y = np.load('my_array.npy')\n",
    "\n",
    "print(y, y.dtype)"
   ]
  },
  {
   "cell_type": "markdown",
   "metadata": {},
   "source": [
    "### Create Arrays\n",
    "\n"
   ]
  },
  {
   "cell_type": "code",
   "execution_count": 10,
   "metadata": {
    "tags": []
   },
   "outputs": [
    {
     "output_type": "stream",
     "name": "stdout",
     "text": [
      "[[0 0 0 0]\n [0 0 0 0]\n [0 0 0 0]]\n"
     ]
    }
   ],
   "source": [
    "# Create array of zeros from shape\n",
    "print( np.zeros((3,4), dtype=np.int8))"
   ]
  },
  {
   "cell_type": "code",
   "execution_count": 11,
   "metadata": {
    "tags": []
   },
   "outputs": [
    {
     "output_type": "stream",
     "name": "stdout",
     "text": [
      "[[1 1 1 1 1 1 1 1]\n [1 1 1 1 1 1 1 1]]\n"
     ]
    }
   ],
   "source": [
    "# Create array filled with ones\n",
    "print( np.ones((2, 8), dtype=np.int16) )"
   ]
  },
  {
   "cell_type": "code",
   "execution_count": 12,
   "metadata": {
    "tags": []
   },
   "outputs": [
    {
     "output_type": "stream",
     "name": "stdout",
     "text": [
      "[['/' '/' '/' '/']\n ['/' '/' '/' '/']\n ['/' '/' '/' '/']\n ['/' '/' '/' '/']]\n"
     ]
    }
   ],
   "source": [
    "# Create array filled with any constant\n",
    "print( np.full((4,4), '/') )"
   ]
  },
  {
   "cell_type": "code",
   "execution_count": 13,
   "metadata": {
    "tags": []
   },
   "outputs": [
    {
     "output_type": "stream",
     "name": "stdout",
     "text": [
      "[[1 0 0 0]\n [0 1 0 0]\n [0 0 1 0]\n [0 0 0 1]]\n"
     ]
    }
   ],
   "source": [
    "# Create array filled with 5\n",
    "print( np.eye(4, dtype=np.int8) )"
   ]
  },
  {
   "cell_type": "code",
   "execution_count": 24,
   "metadata": {
    "tags": []
   },
   "outputs": [
    {
     "output_type": "stream",
     "name": "stdout",
     "text": [
      "[[1 2 3 1 2 3 1 2 3]\n [4 5 6 4 5 6 4 5 6]\n [7 8 9 7 8 9 7 8 9]\n [1 2 3 1 2 3 1 2 3]\n [4 5 6 4 5 6 4 5 6]\n [7 8 9 7 8 9 7 8 9]\n [1 2 3 1 2 3 1 2 3]\n [4 5 6 4 5 6 4 5 6]\n [7 8 9 7 8 9 7 8 9]]\n"
     ]
    }
   ],
   "source": [
    "# Tile array\n",
    "print( np.tile([[1,2,3],[4,5,6],[7,8,9]], (3, 3)) )"
   ]
  },
  {
   "source": [
    "### Access Array\n",
    "\n",
    "- [NumPy - Basic Slicing and Indexing](https://numpy.org/devdocs/reference/arrays.indexing.html?highlight=slicing#basic-slicing-and-indexing)\n"
   ],
   "cell_type": "markdown",
   "metadata": {}
  },
  {
   "cell_type": "code",
   "execution_count": 23,
   "metadata": {},
   "outputs": [
    {
     "output_type": "stream",
     "name": "stdout",
     "text": [
      "Array: \n [[1 2 3]\n [4 5 6]\n [7 8 9]]\nFirst row:  [1 2 3]\nLast row:  [7 8 9]\n2nd element of 2nd row:  5\n"
     ]
    }
   ],
   "source": [
    "x = np.arange(1,10,1).reshape(3,3)\n",
    "\n",
    "print('Array: \\n', x )\n",
    "print('First row: ', x[0] )\n",
    "print('Last row: ', x[-1] )\n",
    "print('2nd element of 2nd row: ', x[1,1] )"
   ]
  },
  {
   "source": [
    "## Glossary\n",
    "\n",
    "### General Purpose\n",
    "\n",
    "- `numpy.ndarray.dtype` - Return the data-type of the elements of the array. Remember, arrays are homogeneous.\n",
    "- `numpy.ndarray.ndim` - Return the number of array-dimensions (rank), e.g., it will return 2 for a 4x3 array.\n",
    "- `numpy.ndarray.shape` - Return a tuple representing the array dimensions, e.g., it will return (rows,columns) for a rank 2 array.\n",
    "- `numpy.ndarray.size` - Return the number of elements present in the array.\n",
    "- `numpy.save` - Save an array to .npy (numpy) format.\n",
    "- `numpy.load` - Load array from the .npy files.\n",
    "- `numpy.random.random` - Return random floats values from the interval [0.0, 1.0), in a specified shape.\n",
    "- `numpy.random.randint` - Return random integers from the half-open interval [a, b), in a specified shape.\n",
    "- `numpy.random.normal` - Return random samples from a Gaussian (normal) distribution.\n",
    "- `numpy.random.permutation` - Return a randomly permuted sequence from the given list\n",
    "- `numpy.reshape` or `numpy.ndarray.reshape` - Returns an array containing the same elements with a new shape, without affecting the the original array.\n",
    "\n",
    "### Array Creation\n",
    "\n",
    "- `numpy.ones` - Return a new array of given shape and type, filled with 1s.\n",
    "- `numpy.zeros` - Return a new array of given shape and type, filled with 0s.\n",
    "- `numpy.full` - Return a new array of given shape and type, filled with a specific value.\n",
    "- `numpy.eye` - Return a 2-D array with 1s on the diagonal and 0s elsewhere.\n",
    "- `numpy.diag` - Extract the diagonal elements.\n",
    "- `numpy.unique` - Return the sorted unique elements of an array.\n",
    "- `numpy.array` - Create an n-dimensional array.\n",
    "- `numpy.arange` - Return evenly spaced values within a given half-open interval [a, b).\n",
    "- `numpy.linspace` - Return evenly spaced numbers over a specified interval [a,b].\n",
    "- `numpy.ndarray.copy` - Returns a copy of the array.\n",
    "\n",
    "### Category: Operating with Elements and Indices\n",
    "\n",
    "- `numpy.insert` - Insert values along the given axis before the specified indices.\n",
    "- `numpy.delete` - Return a new array, after deleting sub-arrays along a specified axis.\n",
    "- `numpy.append` - Append values at the end of the specified array.\n",
    "- `numpy.hstack` - Return a stacked array formed by stacking the given arrays in sequence horizontally (column-wise).\n",
    "- `numpy.vstack` - Return a stacked array formed by stacking the given arrays, will be at least 2-D, in sequence vertically (row-wise).\n",
    "- `numpy.sort` - Return a sorted copy of an array.\n",
    "- `numpy.ndarray.sort` - Sort an array in-place.\n",
    "\n",
    "### Category: Set Operations\n",
    "\n",
    "- `numpy.intersect1d` - Find the intersection of two arrays.\n",
    "- `numpy.setdiff1d` - Find the set difference of two arrays.\n",
    "- `numpy.union1d` - Return the unique, sorted array of values that are in either of the two input arrays.\n",
    "\n",
    "### Arithmetic and Statistical Operations\n",
    "\n",
    "- `numpy.add` - Element-wise add given arrays\n",
    "- `numpy.subtract` - Subtract arguments of given arrays, element-wise.\n",
    "- `numpy.multiply` - Multiply arguments of given arrays, element-wise.\n",
    "- `numpy.divide` - Returns a true division of the inputs, element-wise.\n",
    "- `numpy.exp` - Calculate the exponential of all elements in the input array.\n",
    "- `numpy.power` - First array elements raised to powers from second array, element-wise.\n",
    "- `numpy.sqrt` - Return the non-negative square-root of an array, element-wise.\n",
    "- `numpy.ndarray.min` - Return the minimum along the specified axis.\n",
    "- `numpy.ndarray.max` - Return the maximum along a given axis.\n",
    "- `numpy.mean` or `numpy.ndarray.mean` - Compute the arithmetic mean along the specified axis.\n",
    "- `numpy.median` - Compute the median along the specified axis."
   ],
   "cell_type": "markdown",
   "metadata": {}
  }
 ],
 "metadata": {
  "kernelspec": {
   "display_name": "Python 3",
   "language": "python",
   "name": "python3"
  },
  "language_info": {
   "codemirror_mode": {
    "name": "ipython",
    "version": 3
   },
   "file_extension": ".py",
   "mimetype": "text/x-python",
   "name": "python",
   "nbconvert_exporter": "python",
   "pygments_lexer": "ipython3",
   "version": "3.8.5-final"
  }
 },
 "nbformat": 4,
 "nbformat_minor": 4
}