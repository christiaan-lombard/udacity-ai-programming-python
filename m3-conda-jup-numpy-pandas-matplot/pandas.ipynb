{
 "metadata": {
  "language_info": {
   "codemirror_mode": {
    "name": "ipython",
    "version": 3
   },
   "file_extension": ".py",
   "mimetype": "text/x-python",
   "name": "python",
   "nbconvert_exporter": "python",
   "pygments_lexer": "ipython3",
   "version": "3.8.5-final"
  },
  "orig_nbformat": 2,
  "kernelspec": {
   "name": "Python 3.8.5 64-bit ('exe': virtualenv)",
   "display_name": "Python 3.8.5 64-bit ('exe': virtualenv)",
   "metadata": {
    "interpreter": {
     "hash": "7fb54e1c2fba0062c08d19c653219f996eba8ab08534751fcdeb746104d3a715"
    }
   }
  }
 },
 "nbformat": 4,
 "nbformat_minor": 2,
 "cells": [
  {
   "source": [
    "# Pandas\n",
    "\n",
    "**Pandas** is a package for data manipulation and analysis in Python. The name Pandas is derived from the econometrics term Panel Data. Pandas incorporates two additional data structures into Python, namely **Pandas Series** and **Pandas DataFrame**. These data structures allow us to work with labeled and relational data in an easy and intuitive manner.\n",
    "\n",
    " - [Pandas Documentation](https://pandas.pydata.org/pandas-docs/stable/)\n",
    " - [Pandas Reference - Series](https://pandas.pydata.org/pandas-docs/stable/reference/series.html)\n",
    " - [Pandas Reference - DataFrame](https://pandas.pydata.org/pandas-docs/stable/reference/frame.html)\n",
    " - [Pandas - Intro to data structures](https://pandas.pydata.org/pandas-docs/stable/user_guide/dsintro.html)\n",
    "\n",
    "## Installation\n",
    "\n",
    "Pandas is included with Anaconda.\n",
    "\n",
    "Install Pandas:\n",
    "```sh\n",
    "conda install pandas=0.22\n",
    "```\n",
    "\n",
    "## Pandas Series\n",
    "\n",
    "A Pandas series is a one-dimensional array-like object that can hold many data types, such as numbers or strings, and has an option to provide axis labels.\n"
   ],
   "cell_type": "markdown",
   "metadata": {}
  },
  {
   "cell_type": "code",
   "execution_count": 26,
   "metadata": {},
   "outputs": [
    {
     "output_type": "execute_result",
     "data": {
      "text/plain": [
       "eggs       30\n",
       "apples      6\n",
       "milk      Yes\n",
       "bread      No\n",
       "Name: Groceries, dtype: object"
      ]
     },
     "metadata": {},
     "execution_count": 26
    }
   ],
   "source": [
    "import pandas as pd\n",
    "\n",
    "groceries = pd.Series(data=[30,6,'Yes','No'], index=['eggs', 'apples', 'milk', 'bread'], name=\"Groceries\")\n",
    "\n",
    "groceries"
   ]
  },
  {
   "source": [
    "### Series Attributes"
   ],
   "cell_type": "markdown",
   "metadata": {}
  },
  {
   "cell_type": "code",
   "execution_count": 27,
   "metadata": {},
   "outputs": [
    {
     "output_type": "stream",
     "name": "stdout",
     "text": [
      "Shape of data [Series.shape]:  (4,)\nNumber of dimensions [Series.ndim]:  1\nNumber of elements [Series.size]:  4\nNumber of bytes [Series.nbytes]:  4\nNumber of bytes [Series.nbytes]:  4\nIndex labels [Series.index]:  Index(['eggs', 'apples', 'milk', 'bread'], dtype='object')\nValues [Series.values]:  [30 6 'Yes' 'No']\n"
     ]
    }
   ],
   "source": [
    "print(\"Shape of data [Series.shape]: \", groceries.shape)\n",
    "print(\"Number of dimensions [Series.ndim]: \", groceries.ndim)\n",
    "print(\"Number of elements [Series.size]: \", groceries.size)\n",
    "print(\"Number of bytes [Series.nbytes]: \", groceries.size)\n",
    "print(\"Number of bytes [Series.nbytes]: \", groceries.size)\n",
    "\n",
    "print(\"Index labels [Series.index]: \", groceries.index)\n",
    "print(\"Values [Series.values]: \", groceries.values)"
   ]
  },
  {
   "source": [
    "### Access and Delete Elements\n",
    "\n"
   ],
   "cell_type": "markdown",
   "metadata": {}
  },
  {
   "cell_type": "code",
   "execution_count": 28,
   "metadata": {},
   "outputs": [
    {
     "output_type": "stream",
     "name": "stdout",
     "text": [
      "Value at index label 'eggs': 50\nValue at numerical index 0: 50\nSeries from indexes 'milk' and 'bread':\n milk     Yes\nbread     No\nName: Groceries, dtype: object \n\nValue at index label (explicitly): Yes\n"
     ]
    }
   ],
   "source": [
    "# assign new value\n",
    "groceries['eggs'] = 50\n",
    "\n",
    "# remove element\n",
    "groceries.drop('apples', inplace=True)\n",
    "\n",
    "print(\"Value at index label 'eggs':\", groceries['eggs'])\n",
    "print(\"Value at numerical index 0:\", groceries[0])\n",
    "print(\"Series from indexes 'milk' and 'bread':\\n\", groceries[['milk', 'bread']], '\\n')\n",
    "print(\"Value at index label (explicitly):\", groceries.loc['milk'])\n",
    "\n"
   ]
  },
  {
   "source": [
    "### Arithmetic Operations on Series\n",
    "\n"
   ],
   "cell_type": "markdown",
   "metadata": {}
  },
  {
   "cell_type": "code",
   "execution_count": 33,
   "metadata": {},
   "outputs": [
    {
     "output_type": "execute_result",
     "data": {
      "text/plain": [
       "apples     10\n",
       "oranges     6\n",
       "bananas     3\n",
       "dtype: int64"
      ]
     },
     "metadata": {},
     "execution_count": 33
    }
   ],
   "source": [
    "# create a panda series that stores a list of fruits\n",
    "fruits= pd.Series(data = [10, 6, 3], index = ['apples', 'oranges', 'bananas'])\n",
    "\n",
    "fruits"
   ]
  },
  {
   "cell_type": "code",
   "execution_count": 31,
   "metadata": {},
   "outputs": [
    {
     "output_type": "stream",
     "name": "stdout",
     "text": [
      "Original grocery list of fruits:\n  apples     10\noranges     6\nbananas     3\ndtype: int64\nfruits + 2:\n apples     12\noranges     8\nbananas     5\ndtype: int64\nfruits - 2:\n apples     8\noranges    4\nbananas    1\ndtype: int64\nfruits * 2:\n apples     20\noranges    12\nbananas     6\ndtype: int64\nfruits / 2:\n apples     5.0\noranges    3.0\nbananas    1.5\ndtype: float64\n"
     ]
    }
   ],
   "source": [
    "# We print fruits for reference\n",
    "print('Original grocery list of fruits:\\n ', fruits)\n",
    "\n",
    "# We perform basic element-wise operations using arithmetic symbols\n",
    "print('fruits + 2:\\n', fruits + 2) # We add 2 to each item in fruits\n",
    "print('fruits - 2:\\n', fruits - 2) # We subtract 2 to each item in fruits\n",
    "print('fruits * 2:\\n', fruits * 2) # We multiply each item in fruits by 2 \n",
    "print('fruits / 2:\\n', fruits / 2) # We divide each item in fruits by 2"
   ]
  },
  {
   "source": [
    "## DataFrames\n",
    "\n",
    "Pandas DataFrames are two-dimensional data structures with labeled rows and columns, that can hold many data types. If you are familiar with Excel, you can think of Pandas DataFrames as being similar to a spreadsheet.\n"
   ],
   "cell_type": "markdown",
   "metadata": {}
  },
  {
   "cell_type": "code",
   "execution_count": 35,
   "metadata": {},
   "outputs": [
    {
     "output_type": "execute_result",
     "data": {
      "text/plain": [
       "           Bob  Alice\n",
       "bike     245.0  500.0\n",
       "book       NaN   40.0\n",
       "glasses    NaN  110.0\n",
       "pants     25.0   45.0\n",
       "watch     55.0    NaN"
      ],
      "text/html": "<div>\n<style scoped>\n    .dataframe tbody tr th:only-of-type {\n        vertical-align: middle;\n    }\n\n    .dataframe tbody tr th {\n        vertical-align: top;\n    }\n\n    .dataframe thead th {\n        text-align: right;\n    }\n</style>\n<table border=\"1\" class=\"dataframe\">\n  <thead>\n    <tr style=\"text-align: right;\">\n      <th></th>\n      <th>Bob</th>\n      <th>Alice</th>\n    </tr>\n  </thead>\n  <tbody>\n    <tr>\n      <th>bike</th>\n      <td>245.0</td>\n      <td>500.0</td>\n    </tr>\n    <tr>\n      <th>book</th>\n      <td>NaN</td>\n      <td>40.0</td>\n    </tr>\n    <tr>\n      <th>glasses</th>\n      <td>NaN</td>\n      <td>110.0</td>\n    </tr>\n    <tr>\n      <th>pants</th>\n      <td>25.0</td>\n      <td>45.0</td>\n    </tr>\n    <tr>\n      <th>watch</th>\n      <td>55.0</td>\n      <td>NaN</td>\n    </tr>\n  </tbody>\n</table>\n</div>"
     },
     "metadata": {},
     "execution_count": 35
    }
   ],
   "source": [
    "# create a dictionary of Pandas Series \n",
    "items = {\n",
    "    'Bob' :   pd.Series(data = [245, 25, 55], index = ['bike', 'pants', 'watch']),\n",
    "    'Alice' : pd.Series(data = [40, 110, 500, 45], index = ['book', 'glasses', 'bike', 'pants'])\n",
    "}\n",
    "\n",
    "# create a DataFrame from dictionary of series\n",
    "shopping_carts = pd.DataFrame(items)\n",
    "\n",
    "shopping_carts"
   ]
  },
  {
   "cell_type": "code",
   "execution_count": 42,
   "metadata": {},
   "outputs": [
    {
     "output_type": "execute_result",
     "data": {
      "text/plain": [
       "         bikes  pants  watches  shirts  shoes  suits  glasses\n",
       "store 1     20     30       35    15.0      8   45.0      NaN\n",
       "store 2     15      5       10     2.0      5    7.0     50.0\n",
       "store 3     20     30       35     NaN     10    NaN      4.0"
      ],
      "text/html": "<div>\n<style scoped>\n    .dataframe tbody tr th:only-of-type {\n        vertical-align: middle;\n    }\n\n    .dataframe tbody tr th {\n        vertical-align: top;\n    }\n\n    .dataframe thead th {\n        text-align: right;\n    }\n</style>\n<table border=\"1\" class=\"dataframe\">\n  <thead>\n    <tr style=\"text-align: right;\">\n      <th></th>\n      <th>bikes</th>\n      <th>pants</th>\n      <th>watches</th>\n      <th>shirts</th>\n      <th>shoes</th>\n      <th>suits</th>\n      <th>glasses</th>\n    </tr>\n  </thead>\n  <tbody>\n    <tr>\n      <th>store 1</th>\n      <td>20</td>\n      <td>30</td>\n      <td>35</td>\n      <td>15.0</td>\n      <td>8</td>\n      <td>45.0</td>\n      <td>NaN</td>\n    </tr>\n    <tr>\n      <th>store 2</th>\n      <td>15</td>\n      <td>5</td>\n      <td>10</td>\n      <td>2.0</td>\n      <td>5</td>\n      <td>7.0</td>\n      <td>50.0</td>\n    </tr>\n    <tr>\n      <th>store 3</th>\n      <td>20</td>\n      <td>30</td>\n      <td>35</td>\n      <td>NaN</td>\n      <td>10</td>\n      <td>NaN</td>\n      <td>4.0</td>\n    </tr>\n  </tbody>\n</table>\n</div>"
     },
     "metadata": {},
     "execution_count": 42
    }
   ],
   "source": [
    "# create a list of dictionaries\n",
    "items3 = [{'bikes': 20, 'pants': 30, 'watches': 35, 'shirts': 15, 'shoes':8, 'suits':45},\n",
    "{'watches': 10, 'glasses': 50, 'bikes': 15, 'pants':5, 'shirts': 2, 'shoes':5, 'suits':7},\n",
    "{'bikes': 20, 'pants': 30, 'watches': 35, 'glasses': 4, 'shoes':10}]\n",
    "\n",
    "# create a DataFrame \n",
    "store_items = pd.DataFrame(items3, index=['store 1', 'store 2', 'store 3'])\n",
    "\n",
    "store_items"
   ]
  },
  {
   "source": [
    "### Accessing Elements in DataFrames"
   ],
   "cell_type": "markdown",
   "metadata": {}
  },
  {
   "cell_type": "code",
   "execution_count": 43,
   "metadata": {},
   "outputs": [
    {
     "output_type": "stream",
     "name": "stdout",
     "text": [
      "How many bikes are in each store:\n          bikes\nstore 1     20\nstore 2     15\nstore 3     20 \n\nHow many bikes and pants are in each store:\n          bikes  pants\nstore 1     20     30\nstore 2     15      5\nstore 3     20     30 \n\nWhat items are in Store 1:\n          bikes  pants  watches  shirts  shoes  suits  glasses\nstore 1     20     30       35    15.0      8   45.0      NaN \n\nHow many bikes are in Store 2: 15 \n\n"
     ]
    }
   ],
   "source": [
    "print('How many bikes are in each store:\\n', store_items[['bikes']], '\\n')\n",
    "print('How many bikes and pants are in each store:\\n', store_items[['bikes', 'pants']], '\\n')\n",
    "print('What items are in Store 1:\\n', store_items.loc[['store 1']], '\\n')\n",
    "print('How many bikes are in Store 2:', store_items['bikes']['store 2'], '\\n')"
   ]
  },
  {
   "source": [
    "### Dealing with NaN\n"
   ],
   "cell_type": "markdown",
   "metadata": {}
  },
  {
   "cell_type": "code",
   "execution_count": 44,
   "metadata": {},
   "outputs": [
    {
     "output_type": "execute_result",
     "data": {
      "text/plain": [
       "         bikes  pants  watches  shirts  shoes  suits  glasses\n",
       "store 1     20     30       35    15.0      8   45.0      NaN\n",
       "store 2     15      5       10     2.0      5    7.0     50.0\n",
       "store 3     20     30       35     NaN     10    NaN      4.0"
      ],
      "text/html": "<div>\n<style scoped>\n    .dataframe tbody tr th:only-of-type {\n        vertical-align: middle;\n    }\n\n    .dataframe tbody tr th {\n        vertical-align: top;\n    }\n\n    .dataframe thead th {\n        text-align: right;\n    }\n</style>\n<table border=\"1\" class=\"dataframe\">\n  <thead>\n    <tr style=\"text-align: right;\">\n      <th></th>\n      <th>bikes</th>\n      <th>pants</th>\n      <th>watches</th>\n      <th>shirts</th>\n      <th>shoes</th>\n      <th>suits</th>\n      <th>glasses</th>\n    </tr>\n  </thead>\n  <tbody>\n    <tr>\n      <th>store 1</th>\n      <td>20</td>\n      <td>30</td>\n      <td>35</td>\n      <td>15.0</td>\n      <td>8</td>\n      <td>45.0</td>\n      <td>NaN</td>\n    </tr>\n    <tr>\n      <th>store 2</th>\n      <td>15</td>\n      <td>5</td>\n      <td>10</td>\n      <td>2.0</td>\n      <td>5</td>\n      <td>7.0</td>\n      <td>50.0</td>\n    </tr>\n    <tr>\n      <th>store 3</th>\n      <td>20</td>\n      <td>30</td>\n      <td>35</td>\n      <td>NaN</td>\n      <td>10</td>\n      <td>NaN</td>\n      <td>4.0</td>\n    </tr>\n  </tbody>\n</table>\n</div>"
     },
     "metadata": {},
     "execution_count": 44
    }
   ],
   "source": [
    "store_items"
   ]
  },
  {
   "cell_type": "code",
   "execution_count": 45,
   "metadata": {},
   "outputs": [
    {
     "output_type": "stream",
     "name": "stdout",
     "text": [
      "Number of NaN values in our DataFrame: 3\n"
     ]
    }
   ],
   "source": [
    "# count the number of NaN values in store_items\n",
    "x =  store_items.isnull().sum().sum()\n",
    "\n",
    "print('Number of NaN values in our DataFrame:', x)"
   ]
  },
  {
   "cell_type": "code",
   "execution_count": 46,
   "metadata": {},
   "outputs": [
    {
     "output_type": "execute_result",
     "data": {
      "text/plain": [
       "         bikes  pants  watches  shirts  shoes  suits  glasses\n",
       "store 1  False  False    False   False  False  False     True\n",
       "store 2  False  False    False   False  False  False    False\n",
       "store 3  False  False    False    True  False   True    False"
      ],
      "text/html": "<div>\n<style scoped>\n    .dataframe tbody tr th:only-of-type {\n        vertical-align: middle;\n    }\n\n    .dataframe tbody tr th {\n        vertical-align: top;\n    }\n\n    .dataframe thead th {\n        text-align: right;\n    }\n</style>\n<table border=\"1\" class=\"dataframe\">\n  <thead>\n    <tr style=\"text-align: right;\">\n      <th></th>\n      <th>bikes</th>\n      <th>pants</th>\n      <th>watches</th>\n      <th>shirts</th>\n      <th>shoes</th>\n      <th>suits</th>\n      <th>glasses</th>\n    </tr>\n  </thead>\n  <tbody>\n    <tr>\n      <th>store 1</th>\n      <td>False</td>\n      <td>False</td>\n      <td>False</td>\n      <td>False</td>\n      <td>False</td>\n      <td>False</td>\n      <td>True</td>\n    </tr>\n    <tr>\n      <th>store 2</th>\n      <td>False</td>\n      <td>False</td>\n      <td>False</td>\n      <td>False</td>\n      <td>False</td>\n      <td>False</td>\n      <td>False</td>\n    </tr>\n    <tr>\n      <th>store 3</th>\n      <td>False</td>\n      <td>False</td>\n      <td>False</td>\n      <td>True</td>\n      <td>False</td>\n      <td>True</td>\n      <td>False</td>\n    </tr>\n  </tbody>\n</table>\n</div>"
     },
     "metadata": {},
     "execution_count": 46
    }
   ],
   "source": [
    "# Return boolean True/False for each element if it is a NaN\n",
    "store_items.isnull()"
   ]
  },
  {
   "cell_type": "code",
   "execution_count": 47,
   "metadata": {},
   "outputs": [
    {
     "output_type": "execute_result",
     "data": {
      "text/plain": [
       "bikes      0\n",
       "pants      0\n",
       "watches    0\n",
       "shirts     1\n",
       "shoes      0\n",
       "suits      1\n",
       "glasses    1\n",
       "dtype: int64"
      ]
     },
     "metadata": {},
     "execution_count": 47
    }
   ],
   "source": [
    "# Count NaN down the column\n",
    "store_items.isnull().sum()"
   ]
  },
  {
   "cell_type": "code",
   "execution_count": 49,
   "metadata": {},
   "outputs": [
    {
     "output_type": "execute_result",
     "data": {
      "text/plain": [
       "bikes      3\n",
       "pants      3\n",
       "watches    3\n",
       "shirts     2\n",
       "shoes      3\n",
       "suits      2\n",
       "glasses    2\n",
       "dtype: int64"
      ]
     },
     "metadata": {},
     "execution_count": 49
    }
   ],
   "source": [
    "# Number of non-NaN values in the columns of our DataFrame\n",
    "store_items.count()"
   ]
  },
  {
   "cell_type": "code",
   "execution_count": 50,
   "metadata": {},
   "outputs": [
    {
     "output_type": "execute_result",
     "data": {
      "text/plain": [
       "         bikes  pants  watches  shirts  shoes  suits  glasses\n",
       "store 2     15      5       10     2.0      5    7.0     50.0"
      ],
      "text/html": "<div>\n<style scoped>\n    .dataframe tbody tr th:only-of-type {\n        vertical-align: middle;\n    }\n\n    .dataframe tbody tr th {\n        vertical-align: top;\n    }\n\n    .dataframe thead th {\n        text-align: right;\n    }\n</style>\n<table border=\"1\" class=\"dataframe\">\n  <thead>\n    <tr style=\"text-align: right;\">\n      <th></th>\n      <th>bikes</th>\n      <th>pants</th>\n      <th>watches</th>\n      <th>shirts</th>\n      <th>shoes</th>\n      <th>suits</th>\n      <th>glasses</th>\n    </tr>\n  </thead>\n  <tbody>\n    <tr>\n      <th>store 2</th>\n      <td>15</td>\n      <td>5</td>\n      <td>10</td>\n      <td>2.0</td>\n      <td>5</td>\n      <td>7.0</td>\n      <td>50.0</td>\n    </tr>\n  </tbody>\n</table>\n</div>"
     },
     "metadata": {},
     "execution_count": 50
    }
   ],
   "source": [
    "# Drop rows having NaN values\n",
    "store_items.dropna(axis = 0)"
   ]
  },
  {
   "cell_type": "code",
   "execution_count": 51,
   "metadata": {},
   "outputs": [
    {
     "output_type": "execute_result",
     "data": {
      "text/plain": [
       "         bikes  pants  watches  shoes\n",
       "store 1     20     30       35      8\n",
       "store 2     15      5       10      5\n",
       "store 3     20     30       35     10"
      ],
      "text/html": "<div>\n<style scoped>\n    .dataframe tbody tr th:only-of-type {\n        vertical-align: middle;\n    }\n\n    .dataframe tbody tr th {\n        vertical-align: top;\n    }\n\n    .dataframe thead th {\n        text-align: right;\n    }\n</style>\n<table border=\"1\" class=\"dataframe\">\n  <thead>\n    <tr style=\"text-align: right;\">\n      <th></th>\n      <th>bikes</th>\n      <th>pants</th>\n      <th>watches</th>\n      <th>shoes</th>\n    </tr>\n  </thead>\n  <tbody>\n    <tr>\n      <th>store 1</th>\n      <td>20</td>\n      <td>30</td>\n      <td>35</td>\n      <td>8</td>\n    </tr>\n    <tr>\n      <th>store 2</th>\n      <td>15</td>\n      <td>5</td>\n      <td>10</td>\n      <td>5</td>\n    </tr>\n    <tr>\n      <th>store 3</th>\n      <td>20</td>\n      <td>30</td>\n      <td>35</td>\n      <td>10</td>\n    </tr>\n  </tbody>\n</table>\n</div>"
     },
     "metadata": {},
     "execution_count": 51
    }
   ],
   "source": [
    "# Drop columns having NaN values\n",
    "store_items.dropna(axis = 1)"
   ]
  },
  {
   "cell_type": "code",
   "execution_count": 52,
   "metadata": {},
   "outputs": [
    {
     "output_type": "execute_result",
     "data": {
      "text/plain": [
       "         bikes  pants  watches  shirts  shoes  suits  glasses\n",
       "store 1     20     30       35    15.0      8   45.0      0.0\n",
       "store 2     15      5       10     2.0      5    7.0     50.0\n",
       "store 3     20     30       35     0.0     10    0.0      4.0"
      ],
      "text/html": "<div>\n<style scoped>\n    .dataframe tbody tr th:only-of-type {\n        vertical-align: middle;\n    }\n\n    .dataframe tbody tr th {\n        vertical-align: top;\n    }\n\n    .dataframe thead th {\n        text-align: right;\n    }\n</style>\n<table border=\"1\" class=\"dataframe\">\n  <thead>\n    <tr style=\"text-align: right;\">\n      <th></th>\n      <th>bikes</th>\n      <th>pants</th>\n      <th>watches</th>\n      <th>shirts</th>\n      <th>shoes</th>\n      <th>suits</th>\n      <th>glasses</th>\n    </tr>\n  </thead>\n  <tbody>\n    <tr>\n      <th>store 1</th>\n      <td>20</td>\n      <td>30</td>\n      <td>35</td>\n      <td>15.0</td>\n      <td>8</td>\n      <td>45.0</td>\n      <td>0.0</td>\n    </tr>\n    <tr>\n      <th>store 2</th>\n      <td>15</td>\n      <td>5</td>\n      <td>10</td>\n      <td>2.0</td>\n      <td>5</td>\n      <td>7.0</td>\n      <td>50.0</td>\n    </tr>\n    <tr>\n      <th>store 3</th>\n      <td>20</td>\n      <td>30</td>\n      <td>35</td>\n      <td>0.0</td>\n      <td>10</td>\n      <td>0.0</td>\n      <td>4.0</td>\n    </tr>\n  </tbody>\n</table>\n</div>"
     },
     "metadata": {},
     "execution_count": 52
    }
   ],
   "source": [
    "# Replace NaN with 0\n",
    "store_items.fillna(0)"
   ]
  },
  {
   "cell_type": "code",
   "execution_count": 54,
   "metadata": {},
   "outputs": [
    {
     "output_type": "execute_result",
     "data": {
      "text/plain": [
       "         bikes  pants  watches  shirts  shoes  suits  glasses\n",
       "store 1   20.0   30.0     35.0    15.0    8.0   45.0     45.0\n",
       "store 2   15.0    5.0     10.0     2.0    5.0    7.0     50.0\n",
       "store 3   20.0   30.0     35.0    35.0   10.0   10.0      4.0"
      ],
      "text/html": "<div>\n<style scoped>\n    .dataframe tbody tr th:only-of-type {\n        vertical-align: middle;\n    }\n\n    .dataframe tbody tr th {\n        vertical-align: top;\n    }\n\n    .dataframe thead th {\n        text-align: right;\n    }\n</style>\n<table border=\"1\" class=\"dataframe\">\n  <thead>\n    <tr style=\"text-align: right;\">\n      <th></th>\n      <th>bikes</th>\n      <th>pants</th>\n      <th>watches</th>\n      <th>shirts</th>\n      <th>shoes</th>\n      <th>suits</th>\n      <th>glasses</th>\n    </tr>\n  </thead>\n  <tbody>\n    <tr>\n      <th>store 1</th>\n      <td>20.0</td>\n      <td>30.0</td>\n      <td>35.0</td>\n      <td>15.0</td>\n      <td>8.0</td>\n      <td>45.0</td>\n      <td>45.0</td>\n    </tr>\n    <tr>\n      <th>store 2</th>\n      <td>15.0</td>\n      <td>5.0</td>\n      <td>10.0</td>\n      <td>2.0</td>\n      <td>5.0</td>\n      <td>7.0</td>\n      <td>50.0</td>\n    </tr>\n    <tr>\n      <th>store 3</th>\n      <td>20.0</td>\n      <td>30.0</td>\n      <td>35.0</td>\n      <td>35.0</td>\n      <td>10.0</td>\n      <td>10.0</td>\n      <td>4.0</td>\n    </tr>\n  </tbody>\n</table>\n</div>"
     },
     "metadata": {},
     "execution_count": 54
    }
   ],
   "source": [
    "# forward fill Nan values with previous values\n",
    "store_items.fillna(method = 'ffill', axis=1)"
   ]
  },
  {
   "cell_type": "code",
   "execution_count": 55,
   "metadata": {},
   "outputs": [
    {
     "output_type": "execute_result",
     "data": {
      "text/plain": [
       "         bikes  pants  watches  shirts  shoes  suits  glasses\n",
       "store 1     20     30       35    15.0      8   45.0      NaN\n",
       "store 2     15      5       10     2.0      5    7.0     50.0\n",
       "store 3     20     30       35     2.0     10    7.0      4.0"
      ],
      "text/html": "<div>\n<style scoped>\n    .dataframe tbody tr th:only-of-type {\n        vertical-align: middle;\n    }\n\n    .dataframe tbody tr th {\n        vertical-align: top;\n    }\n\n    .dataframe thead th {\n        text-align: right;\n    }\n</style>\n<table border=\"1\" class=\"dataframe\">\n  <thead>\n    <tr style=\"text-align: right;\">\n      <th></th>\n      <th>bikes</th>\n      <th>pants</th>\n      <th>watches</th>\n      <th>shirts</th>\n      <th>shoes</th>\n      <th>suits</th>\n      <th>glasses</th>\n    </tr>\n  </thead>\n  <tbody>\n    <tr>\n      <th>store 1</th>\n      <td>20</td>\n      <td>30</td>\n      <td>35</td>\n      <td>15.0</td>\n      <td>8</td>\n      <td>45.0</td>\n      <td>NaN</td>\n    </tr>\n    <tr>\n      <th>store 2</th>\n      <td>15</td>\n      <td>5</td>\n      <td>10</td>\n      <td>2.0</td>\n      <td>5</td>\n      <td>7.0</td>\n      <td>50.0</td>\n    </tr>\n    <tr>\n      <th>store 3</th>\n      <td>20</td>\n      <td>30</td>\n      <td>35</td>\n      <td>2.0</td>\n      <td>10</td>\n      <td>7.0</td>\n      <td>4.0</td>\n    </tr>\n  </tbody>\n</table>\n</div>"
     },
     "metadata": {},
     "execution_count": 55
    }
   ],
   "source": [
    "# replace NaN values by using linear interpolation using column values\n",
    "store_items.interpolate(method = 'linear', axis = 0)"
   ]
  },
  {
   "source": [
    "### Load data into DataFrame\n"
   ],
   "cell_type": "markdown",
   "metadata": {}
  },
  {
   "cell_type": "code",
   "execution_count": 58,
   "metadata": {},
   "outputs": [
    {
     "output_type": "execute_result",
     "data": {
      "text/plain": [
       "         Date       Open       High        Low      Close  Adj Close    Volume\n",
       "0  2004-08-19  49.676899  51.693783  47.669952  49.845802  49.845802  44994500\n",
       "1  2004-08-20  50.178635  54.187561  49.925285  53.805050  53.805050  23005800\n",
       "2  2004-08-23  55.017166  56.373344  54.172661  54.346527  54.346527  18393200\n",
       "3  2004-08-24  55.260582  55.439419  51.450363  52.096165  52.096165  15361800\n",
       "4  2004-08-25  52.140873  53.651051  51.604362  52.657513  52.657513   9257400"
      ],
      "text/html": "<div>\n<style scoped>\n    .dataframe tbody tr th:only-of-type {\n        vertical-align: middle;\n    }\n\n    .dataframe tbody tr th {\n        vertical-align: top;\n    }\n\n    .dataframe thead th {\n        text-align: right;\n    }\n</style>\n<table border=\"1\" class=\"dataframe\">\n  <thead>\n    <tr style=\"text-align: right;\">\n      <th></th>\n      <th>Date</th>\n      <th>Open</th>\n      <th>High</th>\n      <th>Low</th>\n      <th>Close</th>\n      <th>Adj Close</th>\n      <th>Volume</th>\n    </tr>\n  </thead>\n  <tbody>\n    <tr>\n      <th>0</th>\n      <td>2004-08-19</td>\n      <td>49.676899</td>\n      <td>51.693783</td>\n      <td>47.669952</td>\n      <td>49.845802</td>\n      <td>49.845802</td>\n      <td>44994500</td>\n    </tr>\n    <tr>\n      <th>1</th>\n      <td>2004-08-20</td>\n      <td>50.178635</td>\n      <td>54.187561</td>\n      <td>49.925285</td>\n      <td>53.805050</td>\n      <td>53.805050</td>\n      <td>23005800</td>\n    </tr>\n    <tr>\n      <th>2</th>\n      <td>2004-08-23</td>\n      <td>55.017166</td>\n      <td>56.373344</td>\n      <td>54.172661</td>\n      <td>54.346527</td>\n      <td>54.346527</td>\n      <td>18393200</td>\n    </tr>\n    <tr>\n      <th>3</th>\n      <td>2004-08-24</td>\n      <td>55.260582</td>\n      <td>55.439419</td>\n      <td>51.450363</td>\n      <td>52.096165</td>\n      <td>52.096165</td>\n      <td>15361800</td>\n    </tr>\n    <tr>\n      <th>4</th>\n      <td>2004-08-25</td>\n      <td>52.140873</td>\n      <td>53.651051</td>\n      <td>51.604362</td>\n      <td>52.657513</td>\n      <td>52.657513</td>\n      <td>9257400</td>\n    </tr>\n  </tbody>\n</table>\n</div>"
     },
     "metadata": {},
     "execution_count": 58
    }
   ],
   "source": [
    "# read DataFrame from a CSV file\n",
    "Google_stock = pd.read_csv('./data/google.csv')\n",
    "\n",
    "Google_stock.head()"
   ]
  },
  {
   "cell_type": "code",
   "execution_count": 57,
   "metadata": {},
   "outputs": [
    {
     "output_type": "execute_result",
     "data": {
      "text/plain": [
       "              Open         High  ...    Adj Close        Volume\n",
       "count  3313.000000  3313.000000  ...  3313.000000  3.313000e+03\n",
       "mean    380.186092   383.493740  ...   380.072458  8.038476e+06\n",
       "std     223.818650   224.974534  ...   223.853780  8.399521e+06\n",
       "min      49.274517    50.541279  ...    49.681866  7.900000e+03\n",
       "25%     226.556473   228.394516  ...   226.407440  2.584900e+06\n",
       "50%     293.312286   295.433502  ...   293.029114  5.281300e+06\n",
       "75%     536.650024   540.000000  ...   536.690002  1.065370e+07\n",
       "max     992.000000   997.210022  ...   989.679993  8.276810e+07\n",
       "\n",
       "[8 rows x 6 columns]"
      ],
      "text/html": "<div>\n<style scoped>\n    .dataframe tbody tr th:only-of-type {\n        vertical-align: middle;\n    }\n\n    .dataframe tbody tr th {\n        vertical-align: top;\n    }\n\n    .dataframe thead th {\n        text-align: right;\n    }\n</style>\n<table border=\"1\" class=\"dataframe\">\n  <thead>\n    <tr style=\"text-align: right;\">\n      <th></th>\n      <th>Open</th>\n      <th>High</th>\n      <th>Low</th>\n      <th>Close</th>\n      <th>Adj Close</th>\n      <th>Volume</th>\n    </tr>\n  </thead>\n  <tbody>\n    <tr>\n      <th>count</th>\n      <td>3313.000000</td>\n      <td>3313.000000</td>\n      <td>3313.000000</td>\n      <td>3313.000000</td>\n      <td>3313.000000</td>\n      <td>3.313000e+03</td>\n    </tr>\n    <tr>\n      <th>mean</th>\n      <td>380.186092</td>\n      <td>383.493740</td>\n      <td>376.519309</td>\n      <td>380.072458</td>\n      <td>380.072458</td>\n      <td>8.038476e+06</td>\n    </tr>\n    <tr>\n      <th>std</th>\n      <td>223.818650</td>\n      <td>224.974534</td>\n      <td>222.473232</td>\n      <td>223.853780</td>\n      <td>223.853780</td>\n      <td>8.399521e+06</td>\n    </tr>\n    <tr>\n      <th>min</th>\n      <td>49.274517</td>\n      <td>50.541279</td>\n      <td>47.669952</td>\n      <td>49.681866</td>\n      <td>49.681866</td>\n      <td>7.900000e+03</td>\n    </tr>\n    <tr>\n      <th>25%</th>\n      <td>226.556473</td>\n      <td>228.394516</td>\n      <td>224.003082</td>\n      <td>226.407440</td>\n      <td>226.407440</td>\n      <td>2.584900e+06</td>\n    </tr>\n    <tr>\n      <th>50%</th>\n      <td>293.312286</td>\n      <td>295.433502</td>\n      <td>289.929291</td>\n      <td>293.029114</td>\n      <td>293.029114</td>\n      <td>5.281300e+06</td>\n    </tr>\n    <tr>\n      <th>75%</th>\n      <td>536.650024</td>\n      <td>540.000000</td>\n      <td>532.409973</td>\n      <td>536.690002</td>\n      <td>536.690002</td>\n      <td>1.065370e+07</td>\n    </tr>\n    <tr>\n      <th>max</th>\n      <td>992.000000</td>\n      <td>997.210022</td>\n      <td>989.000000</td>\n      <td>989.679993</td>\n      <td>989.679993</td>\n      <td>8.276810e+07</td>\n    </tr>\n  </tbody>\n</table>\n</div>"
     },
     "metadata": {},
     "execution_count": 57
    }
   ],
   "source": [
    "Google_stock.describe()"
   ]
  },
  {
   "cell_type": "code",
   "execution_count": 59,
   "metadata": {},
   "outputs": [
    {
     "output_type": "execute_result",
     "data": {
      "text/plain": [
       "Date         False\n",
       "Open         False\n",
       "High         False\n",
       "Low          False\n",
       "Close        False\n",
       "Adj Close    False\n",
       "Volume       False\n",
       "dtype: bool"
      ]
     },
     "metadata": {},
     "execution_count": 59
    }
   ],
   "source": [
    "Google_stock.isnull().any()"
   ]
  },
  {
   "cell_type": "code",
   "execution_count": 60,
   "metadata": {},
   "outputs": [
    {
     "output_type": "execute_result",
     "data": {
      "text/plain": [
       "               Open      High       Low     Close  Adj Close    Volume\n",
       "Open       1.000000  0.999904  0.999845  0.999745   0.999745 -0.564258\n",
       "High       0.999904  1.000000  0.999834  0.999868   0.999868 -0.562749\n",
       "Low        0.999845  0.999834  1.000000  0.999899   0.999899 -0.567007\n",
       "Close      0.999745  0.999868  0.999899  1.000000   1.000000 -0.564967\n",
       "Adj Close  0.999745  0.999868  0.999899  1.000000   1.000000 -0.564967\n",
       "Volume    -0.564258 -0.562749 -0.567007 -0.564967  -0.564967  1.000000"
      ],
      "text/html": "<div>\n<style scoped>\n    .dataframe tbody tr th:only-of-type {\n        vertical-align: middle;\n    }\n\n    .dataframe tbody tr th {\n        vertical-align: top;\n    }\n\n    .dataframe thead th {\n        text-align: right;\n    }\n</style>\n<table border=\"1\" class=\"dataframe\">\n  <thead>\n    <tr style=\"text-align: right;\">\n      <th></th>\n      <th>Open</th>\n      <th>High</th>\n      <th>Low</th>\n      <th>Close</th>\n      <th>Adj Close</th>\n      <th>Volume</th>\n    </tr>\n  </thead>\n  <tbody>\n    <tr>\n      <th>Open</th>\n      <td>1.000000</td>\n      <td>0.999904</td>\n      <td>0.999845</td>\n      <td>0.999745</td>\n      <td>0.999745</td>\n      <td>-0.564258</td>\n    </tr>\n    <tr>\n      <th>High</th>\n      <td>0.999904</td>\n      <td>1.000000</td>\n      <td>0.999834</td>\n      <td>0.999868</td>\n      <td>0.999868</td>\n      <td>-0.562749</td>\n    </tr>\n    <tr>\n      <th>Low</th>\n      <td>0.999845</td>\n      <td>0.999834</td>\n      <td>1.000000</td>\n      <td>0.999899</td>\n      <td>0.999899</td>\n      <td>-0.567007</td>\n    </tr>\n    <tr>\n      <th>Close</th>\n      <td>0.999745</td>\n      <td>0.999868</td>\n      <td>0.999899</td>\n      <td>1.000000</td>\n      <td>1.000000</td>\n      <td>-0.564967</td>\n    </tr>\n    <tr>\n      <th>Adj Close</th>\n      <td>0.999745</td>\n      <td>0.999868</td>\n      <td>0.999899</td>\n      <td>1.000000</td>\n      <td>1.000000</td>\n      <td>-0.564967</td>\n    </tr>\n    <tr>\n      <th>Volume</th>\n      <td>-0.564258</td>\n      <td>-0.562749</td>\n      <td>-0.567007</td>\n      <td>-0.564967</td>\n      <td>-0.564967</td>\n      <td>1.000000</td>\n    </tr>\n  </tbody>\n</table>\n</div>"
     },
     "metadata": {},
     "execution_count": 60
    }
   ],
   "source": [
    "# the correlation between columns\n",
    "Google_stock.corr()"
   ]
  },
  {
   "cell_type": "code",
   "execution_count": 62,
   "metadata": {},
   "outputs": [
    {
     "output_type": "execute_result",
     "data": {
      "text/plain": [
       "   Year     Name Department  Age  Salary\n",
       "0  1990    Alice         HR   25   50000\n",
       "1  1990      Bob         RD   30   48000\n",
       "2  1990  Charlie      Admin   45   55000\n",
       "3  1991   Dakota         HR   26   52000\n",
       "4  1991     Elsa         RD   31   50000\n",
       "5  1991    Frank      Admin   46   60000\n",
       "6  1992    Grace      Admin   27   60000\n",
       "7  1992  Hoffman         RD   32   52000\n",
       "8  1992    Inaar      Admin   28   62000"
      ],
      "text/html": "<div>\n<style scoped>\n    .dataframe tbody tr th:only-of-type {\n        vertical-align: middle;\n    }\n\n    .dataframe tbody tr th {\n        vertical-align: top;\n    }\n\n    .dataframe thead th {\n        text-align: right;\n    }\n</style>\n<table border=\"1\" class=\"dataframe\">\n  <thead>\n    <tr style=\"text-align: right;\">\n      <th></th>\n      <th>Year</th>\n      <th>Name</th>\n      <th>Department</th>\n      <th>Age</th>\n      <th>Salary</th>\n    </tr>\n  </thead>\n  <tbody>\n    <tr>\n      <th>0</th>\n      <td>1990</td>\n      <td>Alice</td>\n      <td>HR</td>\n      <td>25</td>\n      <td>50000</td>\n    </tr>\n    <tr>\n      <th>1</th>\n      <td>1990</td>\n      <td>Bob</td>\n      <td>RD</td>\n      <td>30</td>\n      <td>48000</td>\n    </tr>\n    <tr>\n      <th>2</th>\n      <td>1990</td>\n      <td>Charlie</td>\n      <td>Admin</td>\n      <td>45</td>\n      <td>55000</td>\n    </tr>\n    <tr>\n      <th>3</th>\n      <td>1991</td>\n      <td>Dakota</td>\n      <td>HR</td>\n      <td>26</td>\n      <td>52000</td>\n    </tr>\n    <tr>\n      <th>4</th>\n      <td>1991</td>\n      <td>Elsa</td>\n      <td>RD</td>\n      <td>31</td>\n      <td>50000</td>\n    </tr>\n    <tr>\n      <th>5</th>\n      <td>1991</td>\n      <td>Frank</td>\n      <td>Admin</td>\n      <td>46</td>\n      <td>60000</td>\n    </tr>\n    <tr>\n      <th>6</th>\n      <td>1992</td>\n      <td>Grace</td>\n      <td>Admin</td>\n      <td>27</td>\n      <td>60000</td>\n    </tr>\n    <tr>\n      <th>7</th>\n      <td>1992</td>\n      <td>Hoffman</td>\n      <td>RD</td>\n      <td>32</td>\n      <td>52000</td>\n    </tr>\n    <tr>\n      <th>8</th>\n      <td>1992</td>\n      <td>Inaar</td>\n      <td>Admin</td>\n      <td>28</td>\n      <td>62000</td>\n    </tr>\n  </tbody>\n</table>\n</div>"
     },
     "metadata": {},
     "execution_count": 62
    }
   ],
   "source": [
    "# We load fake Company data in a DataFrame\n",
    "data = pd.read_csv('./data/fake-company.csv')\n",
    "\n",
    "data"
   ]
  },
  {
   "cell_type": "code",
   "execution_count": 63,
   "metadata": {},
   "outputs": [
    {
     "output_type": "execute_result",
     "data": {
      "text/plain": [
       "Year\n",
       "1990    153000\n",
       "1991    162000\n",
       "1992    174000\n",
       "Name: Salary, dtype: int64"
      ]
     },
     "metadata": {},
     "execution_count": 63
    }
   ],
   "source": [
    "data.groupby(['Year'])['Salary'].sum()"
   ]
  },
  {
   "source": [
    "## Glossary\n",
    "\n",
    "### Category: Initialization and Utility\n",
    "\n",
    "- `pandas.read_csv(relative_path_to_file)` - Reads a comma-separated values (csv) file present at relative_path_to_file and loads it as a DataFrame\n",
    "- `pandas.DataFrame(data)` - Returns a 2-D heterogeneous tabular data. Note: There are other optional arguments as well that you can use to create a dataframe.\n",
    "- `pandas.Series(data, index)` - Returns 1-D ndarray with axis labels\n",
    "- `pandas.DataFrame.shape` or `pandas.Series.shape` - Returns a tuple representing the dimensions\n",
    "- `pandas.DataFrame.ndim` or `pandas.Series.ndim` - Returns the number of the dimensions (rank). It will return 1 in case of a Series\n",
    "- `pandas.DataFrame.size` or `pandas.Series.size` - Returns the number of elements\n",
    "- `pandas.Series.values` - Returns the data available in the Series\n",
    "- `pandas.Series.index` - Returns the indexes available in the Series\n",
    "- `pandas.DataFrame.isnull()` - Returns a same sized object having True for NaN elements and False otherwise.\n",
    "- `pandas.DataFrame.count(axis)` - Returns the count of non-NaN values along the given axis. If axis=0, it will count down the dataframe, meaning column-wise count of non-NaN values.\n",
    "- `pandas.DataFrame.head([n])` - Return the first n rows from the dataframe. By default, n=5.\n",
    "- `pandas.DataFrame.tail([n])` - Return the last n rows from the dataframe. By default, n=5. Supports negative indexing as well.\n",
    "- `pandas.DataFrame.describe()` - Generate the descriptive statistics, such as, count, mean, std deviation, min, and max.\n",
    "- `pandas.DataFrame.min()` - Returns the minimum of the values along the given axis.\n",
    "- `pandas.DataFrame.max()` - Returns the maximum of the values along the given axis.\n",
    "- `pandas.DataFrame.mean()` - Returns the mean of the values along the given axis.\n",
    "- `pandas.DataFrame.corr()` - Compute pairwise correlation of columns, excluding NA/null values.\n",
    "- `pandas.DataFrame.rolling(windows)` - Provide rolling window calculation, such as pandas.DataFrame.rolling(15).mean() for rolling mean over window size of 15.\n",
    "- `pandas.DataFrame.loc[label]` - Access a group of rows and columns by label(s)\n",
    "- `pandas.DataFrame.groupby(mapping_function)` - Groups the dataframe using a given mapper function or or by a Series of columns.\n",
    "\n",
    "### Category: Manipulation\n",
    "\n",
    "- `pandas.Series.drop(index)` - Drops the element positioned at the given index(es)\n",
    "- `pandas.DataFrame.drop(labels)` - Drop specified labels (entire columns or rows) from the dataframe.\n",
    "- `pandas.DataFrame.pop(item)` - Return the item and drop it from the frame. If not found, then raise a KeyError.\n",
    "- `pandas.DataFrame.insert(location, column, values)` - Insert column having given values into DataFrame at specified location.\n",
    "- `pandas.DataFrame.rename(dictionary-like)` - Rename label(s) (columns or row-indexes) as mentioned in the dictionary-like\n",
    "- `pandas.DataFrame.set_index(keys)` - Set the DataFrame's row-indexes using existing column-values.\n",
    "- `pandas.DataFrame.dropna(axis)` - Remove rows (if axis=0) or columns (if axis=1) that contain missing values.\n",
    "- `pandas.DataFrame.fillna(value, method, axis)` - Replace NaN values with the specified value along the given axis, and using the given method (‘backfill’, ‘bfill’, ‘pad’, ‘ffill’, None)\n",
    "- `pandas.DataFrame.interpolate(method, axis)` - Replace the NaN values with the estimated value calculated using the given method along the given axis."
   ],
   "cell_type": "markdown",
   "metadata": {}
  }
 ]
}