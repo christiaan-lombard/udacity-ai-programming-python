{
 "cells": [
  {
   "cell_type": "markdown",
   "metadata": {},
   "source": [
    "# Neural networks with PyTorch\n",
    "\n",
    "Deep learning networks tend to be massive with dozens or hundreds of layers, that's where the term \"deep\" comes from. You can build one of these deep networks using only weight matrices as we did in the previous notebook, but in general it's very cumbersome and difficult to implement. PyTorch has a nice module `nn` that provides a nice way to efficiently build large neural networks."
   ]
  },
  {
   "cell_type": "code",
   "execution_count": 1,
   "metadata": {
    "collapsed": true
   },
   "outputs": [],
   "source": [
    "# Import necessary packages\n",
    "\n",
    "%matplotlib inline\n",
    "%config InlineBackend.figure_format = 'retina'\n",
    "\n",
    "import numpy as np\n",
    "import torch\n",
    "\n",
    "import helper\n",
    "\n",
    "import matplotlib.pyplot as plt"
   ]
  },
  {
   "cell_type": "markdown",
   "metadata": {},
   "source": [
    "\n",
    "Now we're going to build a larger network that can solve a (formerly) difficult problem, identifying text in an image. Here we'll use the MNIST dataset which consists of greyscale handwritten digits. Each image is 28x28 pixels, you can see a sample below\n",
    "\n",
    "<img src='assets/mnist.png'>\n",
    "\n",
    "Our goal is to build a neural network that can take one of these images and predict the digit in the image.\n",
    "\n",
    "First up, we need to get our dataset. This is provided through the `torchvision` package. The code below will download the MNIST dataset, then create training and test datasets for us. Don't worry too much about the details here, you'll learn more about this later."
   ]
  },
  {
   "cell_type": "code",
   "execution_count": 2,
   "metadata": {
    "collapsed": true
   },
   "outputs": [
    {
     "output_type": "stream",
     "name": "stderr",
     "text": [
      "0it [00:00, ?it/s]Downloading http://yann.lecun.com/exdb/mnist/train-images-idx3-ubyte.gz to C:\\Users\\christiaan/.pytorch/MNIST_data/MNIST\\raw\\train-images-idx3-ubyte.gz\n",
      "9920512it [00:05, 1682045.45it/s]                             \n",
      "Extracting C:\\Users\\christiaan/.pytorch/MNIST_data/MNIST\\raw\\train-images-idx3-ubyte.gz to C:\\Users\\christiaan/.pytorch/MNIST_data/MNIST\\raw\n",
      "0it [00:00, ?it/s]Downloading http://yann.lecun.com/exdb/mnist/train-labels-idx1-ubyte.gz to C:\\Users\\christiaan/.pytorch/MNIST_data/MNIST\\raw\\train-labels-idx1-ubyte.gz\n",
      "32768it [00:00, 37979.30it/s]                           \n",
      "0it [00:00, ?it/s]Extracting C:\\Users\\christiaan/.pytorch/MNIST_data/MNIST\\raw\\train-labels-idx1-ubyte.gz to C:\\Users\\christiaan/.pytorch/MNIST_data/MNIST\\raw\n",
      "Downloading http://yann.lecun.com/exdb/mnist/t10k-images-idx3-ubyte.gz to C:\\Users\\christiaan/.pytorch/MNIST_data/MNIST\\raw\\t10k-images-idx3-ubyte.gz\n",
      "1654784it [00:02, 688783.88it/s]                             \n",
      "0it [00:00, ?it/s]Extracting C:\\Users\\christiaan/.pytorch/MNIST_data/MNIST\\raw\\t10k-images-idx3-ubyte.gz to C:\\Users\\christiaan/.pytorch/MNIST_data/MNIST\\raw\n",
      "Downloading http://yann.lecun.com/exdb/mnist/t10k-labels-idx1-ubyte.gz to C:\\Users\\christiaan/.pytorch/MNIST_data/MNIST\\raw\\t10k-labels-idx1-ubyte.gz\n",
      "8192it [00:00, 13823.05it/s]            Extracting C:\\Users\\christiaan/.pytorch/MNIST_data/MNIST\\raw\\t10k-labels-idx1-ubyte.gz to C:\\Users\\christiaan/.pytorch/MNIST_data/MNIST\\raw\n",
      "Processing...\n",
      "Done!\n",
      "\n"
     ]
    }
   ],
   "source": [
    "### Run this cell\n",
    "\n",
    "from torchvision import datasets, transforms\n",
    "\n",
    "# Define a transform to normalize the data\n",
    "transform = transforms.Compose([transforms.ToTensor(),\n",
    "                              transforms.Normalize((0.5,), (0.5,)),\n",
    "                              ])\n",
    "\n",
    "# Download and load the training data\n",
    "trainset = datasets.MNIST('~/.pytorch/MNIST_data/', download=True, train=True, transform=transform)\n",
    "trainloader = torch.utils.data.DataLoader(trainset, batch_size=64, shuffle=True)"
   ]
  },
  {
   "cell_type": "markdown",
   "metadata": {},
   "source": [
    "We have the training data loaded into `trainloader` and we make that an iterator with `iter(trainloader)`. Later, we'll use this to loop through the dataset for training, like\n",
    "\n",
    "```python\n",
    "for image, label in trainloader:\n",
    "    ## do things with images and labels\n",
    "```\n",
    "\n",
    "You'll notice I created the `trainloader` with a batch size of 64, and `shuffle=True`. The batch size is the number of images we get in one iteration from the data loader and pass through our network, often called a *batch*. And `shuffle=True` tells it to shuffle the dataset every time we start going through the data loader again. But here I'm just grabbing the first batch so we can check out the data. We can see below that `images` is just a tensor with size `(64, 1, 28, 28)`. So, 64 images per batch, 1 color channel, and 28x28 images."
   ]
  },
  {
   "cell_type": "code",
   "execution_count": 3,
   "metadata": {
    "collapsed": true
   },
   "outputs": [
    {
     "output_type": "stream",
     "name": "stdout",
     "text": [
      "<class 'torch.Tensor'>\n",
      "torch.Size([64, 1, 28, 28])\n",
      "torch.Size([64])\n"
     ]
    }
   ],
   "source": [
    "dataiter = iter(trainloader)\n",
    "images, labels = dataiter.next()\n",
    "print(type(images))\n",
    "print(images.shape)\n",
    "print(labels.shape)"
   ]
  },
  {
   "cell_type": "markdown",
   "metadata": {},
   "source": [
    "This is what one of the images looks like. "
   ]
  },
  {
   "cell_type": "code",
   "execution_count": 4,
   "metadata": {
    "collapsed": true
   },
   "outputs": [
    {
     "output_type": "display_data",
     "data": {
      "text/plain": "<Figure size 432x288 with 1 Axes>",
      "image/png": "[encoded data removed]"
     },
     "metadata": {
      "image/png": {
       "width": 251,
       "height": 248
      },
      "needs_background": "light"
     }
    }
   ],
   "source": [
    "plt.imshow(images[1].numpy().squeeze(), cmap='Greys_r')"
   ]
  },
  {
   "cell_type": "markdown",
   "metadata": {},
   "source": [
    "First, let's try to build a simple network for this dataset using weight matrices and matrix multiplications. Then, we'll see how to do it using PyTorch's `nn` module which provides a much more convenient and powerful method for defining network architectures.\n",
    "\n",
    "The networks you've seen so far are called *fully-connected* or *dense* networks. Each unit in one layer is connected to each unit in the next layer. In fully-connected networks, the input to each layer must be a one-dimensional vector (which can be stacked into a 2D tensor as a batch of multiple examples). However, our images are 28x28 2D tensors, so we need to convert them into 1D vectors. Thinking about sizes, we need to convert the batch of images with shape `(64, 1, 28, 28)` to a have a shape of `(64, 784)`, 784 is 28 times 28. This is typically called *flattening*, we flattened the 2D images into 1D vectors.\n",
    "\n",
    "Previously you built a network with one output unit. Here we need 10 output units, one for each digit. We want our network to predict the digit shown in an image, so what we'll do is calculate probabilities that the image is of any one digit or class. This ends up being a discrete probability distribution over the classes (digits) that tells us the most likely class for the image. That means we need 10 output units for the 10 classes (digits). We'll see how to convert the network output into a probability distribution next.\n",
    "\n",
    "> **Exercise:** Flatten the batch of images `images`. Then build a multi-layer network with 784 input units, 256 hidden units, and 10 output units using random tensors for the weights and biases. For now, use a sigmoid activation for the hidden layer. Leave the output layer without an activation, we'll add one that gives us a probability distribution next."
   ]
  },
  {
   "cell_type": "code",
   "execution_count": 15,
   "metadata": {
    "collapsed": true
   },
   "outputs": [
    {
     "output_type": "execute_result",
     "data": {
      "text/plain": [
       "tensor([[ 1.4154e+01, -3.1437e+00,  6.2227e+00,  1.4870e+01, -1.9747e+01,\n",
       "         -7.8129e+00, -1.0851e+01, -3.8551e+00, -2.7044e+00,  6.7304e+00],\n",
       "        [ 1.7186e+01, -1.8023e+01,  2.8391e+00,  1.3435e+01, -5.6557e+00,\n",
       "          2.0762e+00, -1.4731e+01,  9.7273e+00,  1.9563e+00,  3.4012e+00],\n",
       "        [ 2.0738e+01, -7.0835e+00,  8.6216e+00,  1.4255e+01,  3.7044e-01,\n",
       "         -1.5690e+00, -2.1452e+01,  9.3878e-01, -4.4167e+00,  1.6784e+01],\n",
       "        [ 1.7470e+01, -2.3972e+00,  1.1887e+01,  8.3592e+00, -2.3360e+00,\n",
       "          6.4631e-01, -1.6384e+01,  1.2929e+01,  2.2285e+00,  1.2120e+01],\n",
       "        [ 1.0965e+01, -9.9456e+00,  1.9218e+01,  4.5695e+00, -5.9643e+00,\n",
       "         -1.6692e+00, -1.2297e+01,  1.1113e+01,  8.9007e+00,  7.5841e+00],\n",
       "        [ 2.2941e+01,  1.8912e+00,  2.1929e+01,  8.7799e+00, -1.0742e+01,\n",
       "         -2.5261e+00, -1.4455e+01,  1.4706e+01, -2.9812e+00,  1.8956e+01],\n",
       "        [ 1.8130e+01,  1.1414e+01,  8.0454e+00,  3.3407e+00, -6.1478e+00,\n",
       "          7.3541e-01, -1.0635e+01,  7.2342e+00,  1.3760e+01,  8.7373e+00],\n",
       "        [ 1.6377e+01,  2.2817e+00,  5.8055e+00,  1.5675e+01, -1.0085e+01,\n",
       "         -6.5204e+00, -7.7099e+00,  1.0725e+01,  2.8900e+00,  1.6318e+01],\n",
       "        [ 2.4416e+01, -6.7269e+00,  1.5472e+01,  1.4409e+01,  4.2671e-01,\n",
       "         -4.3286e+00, -1.9492e+01,  1.9881e+01,  6.5152e+00,  2.9251e+00],\n",
       "        [ 1.3579e+01,  3.7674e+00,  9.0959e+00,  1.0635e+01, -3.1267e+00,\n",
       "         -6.9519e+00, -9.8599e+00,  1.1692e+01,  1.0065e+00,  1.2792e+01],\n",
       "        [ 1.8943e+01, -3.3200e+00,  1.0807e+01,  1.4876e+01, -3.3435e+00,\n",
       "         -5.4855e+00, -1.2151e+01,  1.2498e+01, -5.0603e+00,  7.2769e+00],\n",
       "        [ 1.8677e+01, -1.8091e+00,  1.2109e+01,  1.1454e+01, -6.3026e+00,\n",
       "          1.3462e+00, -5.6218e+00,  1.3702e+01,  5.6606e+00,  1.6476e+01],\n",
       "        [ 1.8525e+01, -9.1062e+00,  1.1006e+01,  2.7172e+01, -5.0606e+00,\n",
       "         -6.1717e+00, -2.0354e+01,  1.0961e+01,  1.6244e+00,  1.0716e+01],\n",
       "        [ 1.3420e+01, -1.9612e+00,  1.1528e+01,  1.3498e+01, -1.7640e+00,\n",
       "         -1.3030e+01, -8.1678e+00,  6.3282e+00,  2.3615e+00,  1.1133e+01],\n",
       "        [ 1.5486e+01, -7.9724e+00,  8.3022e+00,  2.4357e+01, -7.5820e+00,\n",
       "         -3.1255e+00, -1.0642e+01,  1.1932e+01, -1.7438e+00,  1.8036e+01],\n",
       "        [ 1.5528e+01,  7.4951e+00,  1.6895e+01,  2.6810e+00, -3.1337e+00,\n",
       "         -1.6518e+01, -9.6061e+00,  8.3746e+00,  9.8309e+00,  8.1997e+00],\n",
       "        [ 1.4755e+01, -2.4589e+00,  1.4807e+01,  7.8665e+00, -6.7101e+00,\n",
       "         -8.2584e+00, -1.4523e+01,  2.5813e+00,  2.9668e+00,  1.0935e+01],\n",
       "        [ 2.0674e+01,  4.6047e+00,  1.0378e+01,  1.5198e+01, -4.1199e+00,\n",
       "         -3.9971e+00, -2.5094e+01,  1.4576e+01,  9.2024e+00,  1.8244e+01],\n",
       "        [ 2.1329e+01, -3.7853e+00,  7.1850e+00,  1.2552e+01,  5.7516e-02,\n",
       "         -7.4938e+00, -2.5076e+01,  1.5697e+01, -5.0399e+00,  2.0181e+01],\n",
       "        [ 1.8958e+01, -1.2605e+01,  1.9469e+01,  1.0629e+01, -8.7430e+00,\n",
       "         -8.8184e+00, -1.0719e+01,  2.0698e+01, -4.7225e+00,  1.6403e+01],\n",
       "        [ 1.2698e+01, -9.7379e+00,  1.9297e+00,  2.2196e+01, -6.8242e+00,\n",
       "         -7.7401e+00, -7.6288e+00,  1.2375e+01, -2.3486e+00,  3.4765e+00],\n",
       "        [ 1.8129e+01, -1.6077e+01,  1.2098e+01,  8.0728e+00, -4.0028e+00,\n",
       "          2.1515e+00, -1.1390e+01,  2.7239e+01,  7.8656e-01,  9.5037e+00],\n",
       "        [ 2.2218e+01, -1.1206e+01,  7.1098e+00,  9.9407e+00, -9.0979e+00,\n",
       "         -5.4518e+00, -1.7592e+01,  3.7797e+00, -7.0199e+00,  1.8206e+01],\n",
       "        [ 1.8600e+01, -1.7000e+00,  4.6133e+00,  8.8497e+00, -1.7699e+01,\n",
       "         -1.5436e+00, -8.5979e+00,  1.1772e+01, -1.4596e+00,  1.2957e+01],\n",
       "        [ 2.9289e+01,  3.2871e+00,  1.4085e+01,  6.8816e+00, -3.7793e+00,\n",
       "         -1.6152e+00, -1.4982e+01,  1.0844e+01, -2.1418e+00,  1.9804e+01],\n",
       "        [ 2.0647e+01, -7.5294e+00,  6.9864e+00,  1.2223e+01, -5.8423e+00,\n",
       "          5.3338e-01, -9.3612e+00,  3.2393e+00, -8.9846e+00,  1.5662e+01],\n",
       "        [ 1.8091e+01, -3.9279e+00,  1.1094e+01,  1.5183e+01, -6.9439e+00,\n",
       "         -8.9546e+00, -9.0718e+00,  8.5907e+00, -1.0029e+00,  2.2299e+01],\n",
       "        [ 1.4054e+01,  2.4170e+00,  1.2033e+01,  1.2645e+01, -5.7213e+00,\n",
       "         -5.7641e+00, -7.3338e+00,  1.4471e+01, -2.2737e+00,  9.6319e+00],\n",
       "        [ 2.1839e+01, -1.0830e+01,  8.1834e+00,  1.5465e+01, -1.0821e+01,\n",
       "          3.4085e+00, -1.0260e+01,  1.6304e+01, -3.7807e+00,  1.6512e+01],\n",
       "        [ 1.6867e+01, -1.4378e+00,  1.5014e+01,  2.1864e+01, -1.8308e+00,\n",
       "          1.8840e+00, -1.0553e+01,  7.8058e+00, -6.8707e-01,  1.2717e+01],\n",
       "        [ 1.7125e+01, -1.1250e+01,  1.4165e+01,  9.3589e+00, -1.1259e+01,\n",
       "         -1.8466e+00, -1.1574e+01,  7.9577e+00,  2.1537e+00,  7.8590e+00],\n",
       "        [ 2.2636e+01, -7.6638e+00,  2.7867e+00,  2.1546e+01, -5.2015e+00,\n",
       "          5.3422e-02, -5.5994e+00,  1.8194e+01, -2.1088e+00,  5.8306e+00],\n",
       "        [ 2.9432e+01, -1.0466e+01,  1.4285e+01,  4.0392e+00, -1.4075e+01,\n",
       "         -5.4531e+00, -1.1845e+01, -6.5776e-01, -7.0393e+00,  1.6963e+01],\n",
       "        [ 4.8751e+00, -3.0183e-01,  1.0227e+01,  1.8783e+01, -1.5303e+01,\n",
       "         -5.6259e-01, -1.0833e+01,  1.3860e+01,  5.5993e+00,  1.0599e+01],\n",
       "        [ 1.6745e+01, -1.6706e+00,  1.3554e+01,  7.9751e+00, -1.0135e+01,\n",
       "         -7.0604e+00, -8.8985e+00,  4.1722e+00,  1.4764e+00,  1.6775e+01],\n",
       "        [ 8.7010e+00,  9.0352e+00,  2.1049e+01,  8.7426e+00, -4.4604e+00,\n",
       "         -1.4060e+01, -1.5794e+01, -5.3333e+00, -1.7648e+00,  2.4215e+01],\n",
       "        [ 2.3798e+01,  7.4350e-01,  7.8806e+00,  1.8636e+01,  1.3144e+00,\n",
       "         -1.7617e+00, -1.9933e+01,  1.2484e+01,  8.0099e+00,  1.3165e+01],\n",
       "        [ 1.2822e+01, -1.2475e+01,  1.0411e+01,  8.9694e+00, -4.4531e+00,\n",
       "         -1.2605e+01, -1.1219e+01,  5.9264e+00,  5.6945e-01,  9.1615e+00],\n",
       "        [ 1.9162e+01, -4.1372e+00,  5.4833e+00,  1.8458e+01, -2.0700e+00,\n",
       "         -4.4179e+00, -1.2758e+01,  1.0168e+01,  7.8195e+00,  5.0320e+00],\n",
       "        [ 1.1984e+01,  7.7111e+00,  1.6157e+01,  1.5413e+01, -3.3248e+00,\n",
       "         -7.6583e+00, -1.6429e+01,  1.1873e+01,  7.3280e+00,  1.9175e+01],\n",
       "        [ 1.3113e+01, -7.4369e+00,  1.1355e+01,  2.1635e+01,  1.6085e+00,\n",
       "          3.3536e+00, -9.3662e+00,  1.6865e+01, -9.0824e-01,  6.5075e+00],\n",
       "        [ 1.2251e+01, -2.9185e+00,  8.4150e-01,  2.0669e+01, -1.3687e-01,\n",
       "         -5.7724e+00, -1.4019e+01,  2.2316e+01,  1.1346e+01,  8.3303e+00],\n",
       "        [ 1.3792e+01, -9.4173e+00,  1.2149e+01,  1.7679e+01, -3.9374e+00,\n",
       "         -4.0223e+00, -1.6261e+01,  9.8988e+00,  2.0445e+00,  1.1525e+01],\n",
       "        [ 1.3457e+01, -3.9329e+00,  8.6661e+00,  2.1607e+01, -5.5553e+00,\n",
       "         -1.1504e+01, -2.2738e+01,  1.3404e+00,  2.2938e+00,  1.5848e+01],\n",
       "        [ 2.0704e+01, -1.1433e+01,  6.0388e+00,  2.0717e+01, -9.6176e+00,\n",
       "         -6.4652e+00, -1.5828e+01,  1.4919e+01, -2.1181e-01,  4.7322e+00],\n",
       "        [ 1.7543e+01, -3.7669e+00,  1.1047e+01,  6.3228e+00, -1.4262e+01,\n",
       "         -8.2921e+00, -1.3182e+01,  1.0439e+01,  1.3198e+00,  1.8035e+01],\n",
       "        [ 2.4164e+01,  3.9917e+00,  1.6358e+01,  1.2196e+01,  1.1593e+00,\n",
       "         -4.0155e+00, -1.1292e+01,  9.4203e+00, -6.8368e+00,  9.3085e+00],\n",
       "        [ 1.6492e+01, -1.4132e+01,  1.1763e+01,  9.3129e+00, -7.3651e+00,\n",
       "         -1.3557e+01, -1.1542e+01,  2.4369e+00, -4.4801e+00,  2.0544e+01],\n",
       "        [ 1.4268e+01,  1.0859e+01,  7.2824e+00,  1.3372e+01, -2.2094e+01,\n",
       "          3.7316e+00, -1.1449e+01,  5.5286e+00,  6.2733e+00,  1.9505e+01],\n",
       "        [ 1.4204e+01, -6.7537e-01,  1.0644e+01,  1.5247e+01,  1.7331e+00,\n",
       "         -5.8555e+00, -1.1667e+01,  1.3472e+01,  2.4594e+00,  1.1958e+01],\n",
       "        [ 1.7606e+01, -2.8980e+00,  1.3120e+01,  1.7233e+01, -4.5751e+00,\n",
       "         -4.0084e+00, -1.7397e+01,  1.1055e+01, -6.9715e+00,  4.0334e+00],\n",
       "        [ 2.5089e+01, -1.4223e+01,  1.4094e+01,  1.3688e+01, -5.2088e+00,\n",
       "         -6.9321e-01, -1.8088e+01,  1.6370e+01,  2.1307e+00,  1.7789e+01],\n",
       "        [ 2.8241e+01, -1.2435e+00,  1.1679e+01,  1.3081e+01, -7.0242e+00,\n",
       "         -5.2465e+00, -1.2012e+01,  5.8713e+00,  8.9906e-01,  1.4781e+01],\n",
       "        [ 1.4283e+01, -7.3612e+00,  8.4915e+00,  1.0618e+01, -1.0935e+01,\n",
       "         -7.6473e+00, -1.8196e+01,  2.4727e+00,  3.1019e-01,  1.0397e+01],\n",
       "        [ 1.9035e+01, -7.4801e+00,  1.7038e+01,  1.7683e+01, -1.4445e+00,\n",
       "         -8.3148e+00, -1.9580e+01, -1.6710e+00, -3.6708e+00,  1.5626e+01],\n",
       "        [ 1.9018e+01, -1.0626e+01,  1.1516e+01,  1.0706e+01,  1.8352e+00,\n",
       "         -2.8556e+00, -7.9306e+00,  2.2521e+01,  3.1651e+00,  3.0334e+00],\n",
       "        [ 1.6092e+01, -2.2665e+00,  1.3859e+01,  1.7386e+01, -1.0992e+01,\n",
       "         -3.3238e+00, -9.3164e+00,  1.7704e+01,  1.5020e+00,  2.1904e+01],\n",
       "        [ 1.5218e+01, -2.2568e+01,  5.5967e+00,  2.4426e+01, -6.2287e-01,\n",
       "         -3.0990e+00, -1.8683e+01,  2.0425e+01,  2.7089e+00,  7.2818e+00],\n",
       "        [ 2.0828e+01,  1.2266e+00,  1.3501e+01,  8.4421e+00, -1.4002e+00,\n",
       "          1.1551e+00, -1.5556e+01,  1.9137e+01,  3.5685e+00,  1.4793e+01],\n",
       "        [ 2.2429e+01, -3.1349e+00,  2.3574e+01,  2.2634e+00,  2.3432e+00,\n",
       "         -5.9420e+00, -1.9294e+01, -4.0649e+00, -3.3628e+00,  1.3751e+01],\n",
       "        [ 1.8291e+01,  1.2031e+01,  1.5745e+01,  1.9711e+01,  4.0638e-01,\n",
       "         -6.0468e-01, -9.0598e+00,  9.4567e+00,  1.5537e+00,  1.0021e+01],\n",
       "        [ 3.1052e+01,  2.5250e+00,  1.4764e+01, -6.0370e+00, -5.1781e+00,\n",
       "         -8.3026e+00, -1.4470e+01,  1.5027e-02, -9.7625e-01,  9.9043e+00],\n",
       "        [ 2.3119e+01, -4.9170e+00,  1.1325e+01, -1.7675e+00, -1.1770e+01,\n",
       "         -5.7895e+00, -7.6891e+00,  1.1477e+01,  5.5094e-01,  5.1356e+00],\n",
       "        [ 8.0457e+00,  2.5345e+00,  9.0006e-01,  5.9503e+00, -2.0724e+00,\n",
       "         -4.1719e+00,  1.0057e+00,  1.5629e+01,  3.5532e+00,  9.6961e+00]])"
      ]
     },
     "metadata": {},
     "execution_count": 15
    }
   ],
   "source": [
    "\n",
    "n_hidden = 256\n",
    "n_inputs = 28*28\n",
    "n_images = 64\n",
    "n_outputs = 10\n",
    "\n",
    "def activation(x):\n",
    "    return 1/(1+torch.exp(-x))\n",
    "\n",
    "inputs = images.view(n_images,n_inputs)\n",
    "\n",
    "h_weights = torch.randn((n_inputs,n_hidden))\n",
    "h_bias = torch.randn(n_hidden)\n",
    "\n",
    "o_weights = torch.randn((n_hidden,n_outputs))\n",
    "o_bias = torch.randn(n_outputs)\n",
    "\n",
    "h_out = activation(torch.mm(inputs, h_weights) + h_bias)\n",
    "out = torch.mm(h_out, o_weights) + o_bias\n",
    "\n",
    "out"
   ]
  },
  {
   "cell_type": "markdown",
   "metadata": {},
   "source": [
    "Now we have 10 outputs for our network. We want to pass in an image to our network and get out a probability distribution over the classes that tells us the likely class(es) the image belongs to. Something that looks like this:\n",
    "<img src='assets/image_distribution.png' width=500px>\n",
    "\n",
    "Here we see that the probability for each class is roughly the same. This is representing an untrained network, it hasn't seen any data yet so it just returns a uniform distribution with equal probabilities for each class.\n",
    "\n",
    "To calculate this probability distribution, we often use the [**softmax** function](https://en.wikipedia.org/wiki/Softmax_function). Mathematically this looks like\n",
    "\n",
    "$$\n",
    "\\Large \\sigma(x_i) = \\cfrac{e^{x_i}}{\\sum_k^K{e^{x_k}}}\n",
    "$$\n",
    "\n",
    "What this does is squish each input $x_i$ between 0 and 1 and normalizes the values to give you a proper probability distribution where the probabilites sum up to one.\n",
    "\n",
    "> **Exercise:** Implement a function `softmax` that performs the softmax calculation and returns probability distributions for each example in the batch. Note that you'll need to pay attention to the shapes when doing this. If you have a tensor `a` with shape `(64, 10)` and a tensor `b` with shape `(64,)`, doing `a/b` will give you an error because PyTorch will try to do the division across the columns (called broadcasting) but you'll get a size mismatch. The way to think about this is for each of the 64 examples, you only want to divide by one value, the sum in the denominator. So you need `b` to have a shape of `(64, 1)`. This way PyTorch will divide the 10 values in each row of `a` by the one value in each row of `b`. Pay attention to how you take the sum as well. You'll need to define the `dim` keyword in `torch.sum`. Setting `dim=0` takes the sum across the rows while `dim=1` takes the sum across the columns."
   ]
  },
  {
   "cell_type": "code",
   "execution_count": 22,
   "metadata": {
    "collapsed": true
   },
   "outputs": [
    {
     "output_type": "stream",
     "name": "stdout",
     "text": [
      "torch.Size([64, 10])\ntensor([1.0000, 1.0000, 1.0000, 1.0000, 1.0000, 1.0000, 1.0000, 1.0000, 1.0000,\n        1.0000, 1.0000, 1.0000, 1.0000, 1.0000, 1.0000, 1.0000, 1.0000, 1.0000,\n        1.0000, 1.0000, 1.0000, 1.0000, 1.0000, 1.0000, 1.0000, 1.0000, 1.0000,\n        1.0000, 1.0000, 1.0000, 1.0000, 1.0000, 1.0000, 1.0000, 1.0000, 1.0000,\n        1.0000, 1.0000, 1.0000, 1.0000, 1.0000, 1.0000, 1.0000, 1.0000, 1.0000,\n        1.0000, 1.0000, 1.0000, 1.0000, 1.0000, 1.0000, 1.0000, 1.0000, 1.0000,\n        1.0000, 1.0000, 1.0000, 1.0000, 1.0000, 1.0000, 1.0000, 1.0000, 1.0000,\n        1.0000])\n"
     ]
    }
   ],
   "source": [
    "def softmax(x):\n",
    "    expx = torch.exp(x)\n",
    "    return torch.div(expx, expx.sum(dim=1).view(-1,1))\n",
    "\n",
    "# Here, out should be the output of the network in the previous excercise with shape (64,10)\n",
    "probabilities = softmax(out)\n",
    "\n",
    "# Does it have the right shape? Should be (64, 10)\n",
    "print(probabilities.shape)\n",
    "# Does it sum to 1?\n",
    "print(probabilities.sum(dim=1))"
   ]
  },
  {
   "cell_type": "markdown",
   "metadata": {},
   "source": [
    "## Building networks with PyTorch\n",
    "\n",
    "PyTorch provides a module `nn` that makes building networks much simpler. Here I'll show you how to build the same one as above with 784 inputs, 256 hidden units, 10 output units and a softmax output."
   ]
  },
  {
   "cell_type": "code",
   "execution_count": 23,
   "metadata": {
    "collapsed": true
   },
   "outputs": [],
   "source": [
    "from torch import nn"
   ]
  },
  {
   "cell_type": "code",
   "execution_count": 24,
   "metadata": {
    "collapsed": true
   },
   "outputs": [],
   "source": [
    "class Network(nn.Module):\n",
    "    def __init__(self):\n",
    "        super().__init__()\n",
    "        \n",
    "        # Inputs to hidden layer linear transformation\n",
    "        self.hidden = nn.Linear(784, 256)\n",
    "        # Output layer, 10 units - one for each digit\n",
    "        self.output = nn.Linear(256, 10)\n",
    "        \n",
    "        # Define sigmoid activation and softmax output \n",
    "        self.sigmoid = nn.Sigmoid()\n",
    "        self.softmax = nn.Softmax(dim=1)\n",
    "        \n",
    "    def forward(self, x):\n",
    "        # Pass the input tensor through each of our operations\n",
    "        x = self.hidden(x)\n",
    "        x = self.sigmoid(x)\n",
    "        x = self.output(x)\n",
    "        x = self.softmax(x)\n",
    "        \n",
    "        return x"
   ]
  },
  {
   "cell_type": "markdown",
   "metadata": {},
   "source": [
    "Let's go through this bit by bit.\n",
    "\n",
    "```python\n",
    "class Network(nn.Module):\n",
    "```\n",
    "\n",
    "Here we're inheriting from `nn.Module`. Combined with `super().__init__()` this creates a class that tracks the architecture and provides a lot of useful methods and attributes. It is mandatory to inherit from `nn.Module` when you're creating a class for your network. The name of the class itself can be anything.\n",
    "\n",
    "```python\n",
    "self.hidden = nn.Linear(784, 256)\n",
    "```\n",
    "\n",
    "This line creates a module for a linear transformation, $x\\mathbf{W} + b$, with 784 inputs and 256 outputs and assigns it to `self.hidden`. The module automatically creates the weight and bias tensors which we'll use in the `forward` method. You can access the weight and bias tensors once the network (`net`) is created with `net.hidden.weight` and `net.hidden.bias`.\n",
    "\n",
    "```python\n",
    "self.output = nn.Linear(256, 10)\n",
    "```\n",
    "\n",
    "Similarly, this creates another linear transformation with 256 inputs and 10 outputs.\n",
    "\n",
    "```python\n",
    "self.sigmoid = nn.Sigmoid()\n",
    "self.softmax = nn.Softmax(dim=1)\n",
    "```\n",
    "\n",
    "Here I defined operations for the sigmoid activation and softmax output. Setting `dim=1` in `nn.Softmax(dim=1)` calculates softmax across the columns.\n",
    "\n",
    "```python\n",
    "def forward(self, x):\n",
    "```\n",
    "\n",
    "PyTorch networks created with `nn.Module` must have a `forward` method defined. It takes in a tensor `x` and passes it through the operations you defined in the `__init__` method.\n",
    "\n",
    "```python\n",
    "x = self.hidden(x)\n",
    "x = self.sigmoid(x)\n",
    "x = self.output(x)\n",
    "x = self.softmax(x)\n",
    "```\n",
    "\n",
    "Here the input tensor `x` is passed through each operation and reassigned to `x`. We can see that the input tensor goes through the hidden layer, then a sigmoid function, then the output layer, and finally the softmax function. It doesn't matter what you name the variables here, as long as the inputs and outputs of the operations match the network architecture you want to build. The order in which you define things in the `__init__` method doesn't matter, but you'll need to sequence the operations correctly in the `forward` method.\n",
    "\n",
    "Now we can create a `Network` object."
   ]
  },
  {
   "cell_type": "code",
   "execution_count": 25,
   "metadata": {
    "collapsed": true
   },
   "outputs": [
    {
     "output_type": "execute_result",
     "data": {
      "text/plain": [
       "Network(\n",
       "  (hidden): Linear(in_features=784, out_features=256, bias=True)\n",
       "  (output): Linear(in_features=256, out_features=10, bias=True)\n",
       "  (sigmoid): Sigmoid()\n",
       "  (softmax): Softmax(dim=1)\n",
       ")"
      ]
     },
     "metadata": {},
     "execution_count": 25
    }
   ],
   "source": [
    "# Create the network and look at it's text representation\n",
    "model = Network()\n",
    "model"
   ]
  },
  {
   "cell_type": "markdown",
   "metadata": {},
   "source": [
    "You can define the network somewhat more concisely and clearly using the `torch.nn.functional` module. This is the most common way you'll see networks defined as many operations are simple element-wise functions. We normally import this module as `F`, `import torch.nn.functional as F`."
   ]
  },
  {
   "cell_type": "code",
   "execution_count": null,
   "metadata": {
    "collapsed": true
   },
   "outputs": [],
   "source": [
    "import torch.nn.functional as F\n",
    "\n",
    "class Network(nn.Module):\n",
    "    def __init__(self):\n",
    "        super().__init__()\n",
    "        # Inputs to hidden layer linear transformation\n",
    "        self.hidden = nn.Linear(784, 256)\n",
    "        # Output layer, 10 units - one for each digit\n",
    "        self.output = nn.Linear(256, 10)\n",
    "        \n",
    "    def forward(self, x):\n",
    "        # Hidden layer with sigmoid activation\n",
    "        x = F.sigmoid(self.hidden(x))\n",
    "        # Output layer with softmax activation\n",
    "        x = F.softmax(self.output(x), dim=1)\n",
    "        \n",
    "        return x"
   ]
  },
  {
   "cell_type": "markdown",
   "metadata": {},
   "source": [
    "### Activation functions\n",
    "\n",
    "So far we've only been looking at the sigmoid activation function, but in general any function can be used as an activation function. The only requirement is that for a network to approximate a non-linear function, the activation functions must be non-linear. Here are a few more examples of common activation functions: Tanh (hyperbolic tangent), and ReLU (rectified linear unit).\n",
    "\n",
    "<img src=\"assets/activation.png\" width=700px>\n",
    "\n",
    "In practice, the ReLU function is used almost exclusively as the activation function for hidden layers."
   ]
  },
  {
   "cell_type": "markdown",
   "metadata": {},
   "source": [
    "### Your Turn to Build a Network\n",
    "\n",
    "<img src=\"assets/mlp_mnist.png\" width=600px>\n",
    "\n",
    "> **Exercise:** Create a network with 784 input units, a hidden layer with 128 units and a ReLU activation, then a hidden layer with 64 units and a ReLU activation, and finally an output layer with a softmax activation as shown above. You can use a ReLU activation with the `nn.ReLU` module or `F.relu` function.\n",
    "\n",
    "It's good practice to name your layers by their type of network, for instance 'fc' to represent a fully-connected layer. As you code your solution, use `fc1`, `fc2`, and `fc3` as your layer names."
   ]
  },
  {
   "cell_type": "code",
   "execution_count": 31,
   "metadata": {
    "collapsed": true,
    "scrolled": true
   },
   "outputs": [
    {
     "output_type": "execute_result",
     "data": {
      "text/plain": [
       "Network2(\n",
       "  (fc1): Linear(in_features=784, out_features=128, bias=True)\n",
       "  (fc2): Linear(in_features=128, out_features=64, bias=True)\n",
       "  (output): Linear(in_features=64, out_features=10, bias=True)\n",
       "  (relu): ReLU()\n",
       "  (softmax): Softmax(dim=1)\n",
       ")"
      ]
     },
     "metadata": {},
     "execution_count": 31
    }
   ],
   "source": [
    "class Network2(nn.Module):\n",
    "    def __init__(self):\n",
    "        super().__init__()\n",
    "        \n",
    "        # Hidden layers\n",
    "        self.fc1 = nn.Linear(784, 128)\n",
    "        self.fc2 = nn.Linear(128, 64)\n",
    "        # Output layer\n",
    "        self.output = nn.Linear(64, 10)\n",
    "        \n",
    "        # Define relu activation and softmax output \n",
    "        self.relu = nn.ReLU()\n",
    "        self.softmax = nn.Softmax(dim=1)\n",
    "        \n",
    "    def forward(self, x):\n",
    "        # Pass the input tensor through each of our operations\n",
    "        x = self.fc1(x)\n",
    "        x = self.relu(x)\n",
    "        x = self.fc2(x)\n",
    "        x = self.relu(x)\n",
    "        x = self.output(x)\n",
    "        x = self.softmax(x)\n",
    "        \n",
    "        return x\n",
    "\n",
    "model = Network2()\n",
    "\n",
    "model"
   ]
  },
  {
   "cell_type": "markdown",
   "metadata": {},
   "source": [
    "### Initializing weights and biases\n",
    "\n",
    "The weights and such are automatically initialized for you, but it's possible to customize how they are initialized. The weights and biases are tensors attached to the layer you defined, you can get them with `model.fc1.weight` for instance."
   ]
  },
  {
   "cell_type": "code",
   "execution_count": 32,
   "metadata": {
    "collapsed": true
   },
   "outputs": [
    {
     "output_type": "stream",
     "name": "stdout",
     "text": [
      "Parameter containing:\ntensor([[ 0.0016, -0.0327, -0.0162,  ...,  0.0178, -0.0232,  0.0030],\n        [-0.0057, -0.0184,  0.0085,  ..., -0.0228, -0.0140,  0.0177],\n        [ 0.0130, -0.0127, -0.0323,  ..., -0.0157, -0.0341,  0.0281],\n        ...,\n        [ 0.0018,  0.0084, -0.0213,  ...,  0.0288,  0.0177,  0.0224],\n        [ 0.0192,  0.0155, -0.0302,  ..., -0.0100,  0.0018,  0.0149],\n        [-0.0172,  0.0328, -0.0036,  ...,  0.0100,  0.0159, -0.0051]],\n       requires_grad=True)\nParameter containing:\ntensor([-0.0139, -0.0248, -0.0060, -0.0293, -0.0099,  0.0108, -0.0033,  0.0297,\n         0.0324,  0.0165,  0.0101,  0.0185,  0.0187,  0.0219, -0.0221, -0.0096,\n        -0.0270,  0.0272,  0.0313, -0.0091, -0.0093,  0.0209, -0.0256, -0.0157,\n         0.0106,  0.0175,  0.0319, -0.0186,  0.0301,  0.0026, -0.0028, -0.0281,\n         0.0242,  0.0068, -0.0064,  0.0350,  0.0206, -0.0281,  0.0025,  0.0353,\n        -0.0038, -0.0123,  0.0159, -0.0181,  0.0217,  0.0220, -0.0088,  0.0304,\n        -0.0117,  0.0277, -0.0039,  0.0210, -0.0069, -0.0314,  0.0153,  0.0228,\n         0.0130,  0.0353, -0.0072, -0.0008, -0.0036, -0.0245,  0.0198, -0.0068,\n         0.0185, -0.0164, -0.0109, -0.0277,  0.0298,  0.0336, -0.0316, -0.0002,\n         0.0235,  0.0223, -0.0186, -0.0352,  0.0266, -0.0253, -0.0220,  0.0179,\n        -0.0065,  0.0191, -0.0029,  0.0036,  0.0307,  0.0258,  0.0031,  0.0239,\n         0.0174, -0.0159,  0.0087, -0.0008,  0.0135, -0.0295,  0.0244,  0.0024,\n         0.0198,  0.0279,  0.0296, -0.0286,  0.0229, -0.0004, -0.0109, -0.0333,\n        -0.0211, -0.0320,  0.0285,  0.0193,  0.0013,  0.0227, -0.0049, -0.0316,\n        -0.0070, -0.0311, -0.0281,  0.0093, -0.0107,  0.0112, -0.0321,  0.0169,\n        -0.0254, -0.0154,  0.0158, -0.0153, -0.0258, -0.0040, -0.0317, -0.0320],\n       requires_grad=True)\n"
     ]
    }
   ],
   "source": [
    "print(model.fc1.weight)\n",
    "print(model.fc1.bias)"
   ]
  },
  {
   "cell_type": "markdown",
   "metadata": {},
   "source": [
    "For custom initialization, we want to modify these tensors in place. These are actually autograd *Variables*, so we need to get back the actual tensors with `model.fc1.weight.data`. Once we have the tensors, we can fill them with zeros (for biases) or random normal values."
   ]
  },
  {
   "cell_type": "code",
   "execution_count": 33,
   "metadata": {
    "collapsed": true
   },
   "outputs": [
    {
     "output_type": "execute_result",
     "data": {
      "text/plain": [
       "tensor([0., 0., 0., 0., 0., 0., 0., 0., 0., 0., 0., 0., 0., 0., 0., 0., 0., 0., 0., 0., 0., 0., 0., 0.,\n",
       "        0., 0., 0., 0., 0., 0., 0., 0., 0., 0., 0., 0., 0., 0., 0., 0., 0., 0., 0., 0., 0., 0., 0., 0.,\n",
       "        0., 0., 0., 0., 0., 0., 0., 0., 0., 0., 0., 0., 0., 0., 0., 0., 0., 0., 0., 0., 0., 0., 0., 0.,\n",
       "        0., 0., 0., 0., 0., 0., 0., 0., 0., 0., 0., 0., 0., 0., 0., 0., 0., 0., 0., 0., 0., 0., 0., 0.,\n",
       "        0., 0., 0., 0., 0., 0., 0., 0., 0., 0., 0., 0., 0., 0., 0., 0., 0., 0., 0., 0., 0., 0., 0., 0.,\n",
       "        0., 0., 0., 0., 0., 0., 0., 0.])"
      ]
     },
     "metadata": {},
     "execution_count": 33
    }
   ],
   "source": [
    "# Set biases to all zeros\n",
    "model.fc1.bias.data.fill_(0)"
   ]
  },
  {
   "cell_type": "code",
   "execution_count": 34,
   "metadata": {
    "collapsed": true
   },
   "outputs": [
    {
     "output_type": "execute_result",
     "data": {
      "text/plain": [
       "tensor([[-0.0137, -0.0106, -0.0099,  ..., -0.0029, -0.0020, -0.0010],\n",
       "        [-0.0021, -0.0019, -0.0102,  ..., -0.0125,  0.0073, -0.0091],\n",
       "        [-0.0050, -0.0015,  0.0245,  ..., -0.0111, -0.0087,  0.0131],\n",
       "        ...,\n",
       "        [ 0.0188, -0.0005,  0.0035,  ..., -0.0150, -0.0072, -0.0212],\n",
       "        [-0.0048, -0.0164, -0.0009,  ...,  0.0052,  0.0008, -0.0003],\n",
       "        [-0.0042,  0.0210,  0.0120,  ...,  0.0101, -0.0107,  0.0170]])"
      ]
     },
     "metadata": {},
     "execution_count": 34
    }
   ],
   "source": [
    "# sample from random normal with standard dev = 0.01\n",
    "model.fc1.weight.data.normal_(std=0.01)"
   ]
  },
  {
   "cell_type": "markdown",
   "metadata": {},
   "source": [
    "### Forward pass\n",
    "\n",
    "Now that we have a network, let's see what happens when we pass in an image."
   ]
  },
  {
   "cell_type": "code",
   "execution_count": 35,
   "metadata": {
    "collapsed": true
   },
   "outputs": [
    {
     "output_type": "display_data",
     "data": {
      "text/plain": "<Figure size 432x648 with 2 Axes>",
      "image/png": "[encoded data removed]"
     },
     "metadata": {
      "image/png": {
       "width": 424,
       "height": 235
      },
      "needs_background": "light"
     }
    }
   ],
   "source": [
    "# Grab some data \n",
    "dataiter = iter(trainloader)\n",
    "images, labels = dataiter.next()\n",
    "\n",
    "# Resize images into a 1D vector, new shape is (batch size, color channels, image pixels) \n",
    "images.resize_(64, 1, 784)\n",
    "# or images.resize_(images.shape[0], 1, 784) to automatically get batch size\n",
    "\n",
    "# Forward pass through the network\n",
    "img_idx = 0\n",
    "ps = model.forward(images[img_idx,:])\n",
    "\n",
    "img = images[img_idx]\n",
    "helper.view_classify(img.view(1, 28, 28), ps)"
   ]
  },
  {
   "cell_type": "markdown",
   "metadata": {},
   "source": [
    "As you can see above, our network has basically no idea what this digit is. It's because we haven't trained it yet, all the weights are random!\n",
    "\n",
    "### Using `nn.Sequential`\n",
    "\n",
    "PyTorch provides a convenient way to build networks like this where a tensor is passed sequentially through operations, `nn.Sequential` ([documentation](https://pytorch.org/docs/master/nn.html#torch.nn.Sequential)). Using this to build the equivalent network:"
   ]
  },
  {
   "cell_type": "code",
   "execution_count": 36,
   "metadata": {
    "collapsed": true
   },
   "outputs": [
    {
     "output_type": "stream",
     "name": "stdout",
     "text": [
      "Sequential(\n  (0): Linear(in_features=784, out_features=128, bias=True)\n  (1): ReLU()\n  (2): Linear(in_features=128, out_features=64, bias=True)\n  (3): ReLU()\n  (4): Linear(in_features=64, out_features=10, bias=True)\n  (5): Softmax(dim=1)\n)\n"
     ]
    },
    {
     "output_type": "display_data",
     "data": {
      "text/plain": "<Figure size 432x648 with 2 Axes>",
      "image/png": "[encoded data removed]"
     },
     "metadata": {
      "image/png": {
       "width": 424,
       "height": 235
      },
      "needs_background": "light"
     }
    }
   ],
   "source": [
    "# Hyperparameters for our network\n",
    "input_size = 784\n",
    "hidden_sizes = [128, 64]\n",
    "output_size = 10\n",
    "\n",
    "# Build a feed-forward network\n",
    "model = nn.Sequential(nn.Linear(input_size, hidden_sizes[0]),\n",
    "                      nn.ReLU(),\n",
    "                      nn.Linear(hidden_sizes[0], hidden_sizes[1]),\n",
    "                      nn.ReLU(),\n",
    "                      nn.Linear(hidden_sizes[1], output_size),\n",
    "                      nn.Softmax(dim=1))\n",
    "print(model)\n",
    "\n",
    "# Forward pass through the network and display output\n",
    "images, labels = next(iter(trainloader))\n",
    "images.resize_(images.shape[0], 1, 784)\n",
    "ps = model.forward(images[0,:])\n",
    "helper.view_classify(images[0].view(1, 28, 28), ps)"
   ]
  },
  {
   "cell_type": "markdown",
   "metadata": {},
   "source": [
    "Here our model is the same as before: 784 input units, a hidden layer with 128 units, ReLU activation, 64 unit hidden layer, another ReLU, then the output layer with 10 units, and the softmax output.\n",
    "\n",
    "The operations are available by passing in the appropriate index. For example, if you want to get first Linear operation and look at the weights, you'd use `model[0]`."
   ]
  },
  {
   "cell_type": "code",
   "execution_count": 37,
   "metadata": {
    "collapsed": true
   },
   "outputs": [
    {
     "output_type": "stream",
     "name": "stdout",
     "text": [
      "Linear(in_features=784, out_features=128, bias=True)\n"
     ]
    },
    {
     "output_type": "execute_result",
     "data": {
      "text/plain": [
       "Parameter containing:\n",
       "tensor([[-0.0322, -0.0134,  0.0129,  ..., -0.0241,  0.0234,  0.0225],\n",
       "        [-0.0288, -0.0321, -0.0246,  ...,  0.0029,  0.0138, -0.0234],\n",
       "        [ 0.0099, -0.0060, -0.0336,  ..., -0.0191, -0.0315,  0.0168],\n",
       "        ...,\n",
       "        [-0.0262, -0.0344,  0.0021,  ..., -0.0281,  0.0230,  0.0338],\n",
       "        [ 0.0124,  0.0307, -0.0322,  ..., -0.0226, -0.0343,  0.0138],\n",
       "        [-0.0347, -0.0060,  0.0299,  ..., -0.0241,  0.0250, -0.0255]],\n",
       "       requires_grad=True)"
      ]
     },
     "metadata": {},
     "execution_count": 37
    }
   ],
   "source": [
    "print(model[0])\n",
    "model[0].weight"
   ]
  },
  {
   "cell_type": "markdown",
   "metadata": {},
   "source": [
    "You can also pass in an `OrderedDict` to name the individual layers and operations, instead of using incremental integers. Note that dictionary keys must be unique, so _each operation must have a different name_."
   ]
  },
  {
   "cell_type": "code",
   "execution_count": 38,
   "metadata": {
    "collapsed": true
   },
   "outputs": [
    {
     "output_type": "execute_result",
     "data": {
      "text/plain": [
       "Sequential(\n",
       "  (fc1): Linear(in_features=784, out_features=128, bias=True)\n",
       "  (relu1): ReLU()\n",
       "  (fc2): Linear(in_features=128, out_features=64, bias=True)\n",
       "  (relu2): ReLU()\n",
       "  (output): Linear(in_features=64, out_features=10, bias=True)\n",
       "  (softmax): Softmax(dim=1)\n",
       ")"
      ]
     },
     "metadata": {},
     "execution_count": 38
    }
   ],
   "source": [
    "from collections import OrderedDict\n",
    "model = nn.Sequential(OrderedDict([\n",
    "                      ('fc1', nn.Linear(input_size, hidden_sizes[0])),\n",
    "                      ('relu1', nn.ReLU()),\n",
    "                      ('fc2', nn.Linear(hidden_sizes[0], hidden_sizes[1])),\n",
    "                      ('relu2', nn.ReLU()),\n",
    "                      ('output', nn.Linear(hidden_sizes[1], output_size)),\n",
    "                      ('softmax', nn.Softmax(dim=1))]))\n",
    "model"
   ]
  },
  {
   "cell_type": "markdown",
   "metadata": {},
   "source": [
    "Now you can access layers either by integer or the name"
   ]
  },
  {
   "cell_type": "code",
   "execution_count": 39,
   "metadata": {
    "collapsed": true
   },
   "outputs": [
    {
     "output_type": "stream",
     "name": "stdout",
     "text": [
      "Linear(in_features=784, out_features=128, bias=True)\nLinear(in_features=784, out_features=128, bias=True)\n"
     ]
    }
   ],
   "source": [
    "print(model[0])\n",
    "print(model.fc1)"
   ]
  },
  {
   "cell_type": "markdown",
   "metadata": {},
   "source": [
    "In the next notebook, we'll see how we can train a neural network to accuractly predict the numbers appearing in the MNIST images."
   ]
  }
 ],
 "metadata": {
  "kernelspec": {
   "display_name": "Python 3",
   "language": "python",
   "name": "python3"
  },
  "language_info": {
   "codemirror_mode": {
    "name": "ipython",
    "version": 3
   },
   "file_extension": ".py",
   "mimetype": "text/x-python",
   "name": "python",
   "nbconvert_exporter": "python",
   "pygments_lexer": "ipython3",
   "version": "3.8.5-final"
  }
 },
 "nbformat": 4,
 "nbformat_minor": 2
}