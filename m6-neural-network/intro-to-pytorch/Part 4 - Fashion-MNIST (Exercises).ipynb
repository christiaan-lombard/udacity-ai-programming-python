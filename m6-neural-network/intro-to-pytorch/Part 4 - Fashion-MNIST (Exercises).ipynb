{
 "cells": [
  {
   "cell_type": "markdown",
   "metadata": {},
   "source": [
    "# Classifying Fashion-MNIST\n",
    "\n",
    "Now it's your turn to build and train a neural network. You'll be using the [Fashion-MNIST dataset](https://github.com/zalandoresearch/fashion-mnist), a drop-in replacement for the MNIST dataset. MNIST is actually quite trivial with neural networks where you can easily achieve better than 97% accuracy. Fashion-MNIST is a set of 28x28 greyscale images of clothes. It's more complex than MNIST, so it's a better representation of the actual performance of your network, and a better representation of datasets you'll use in the real world.\n",
    "\n",
    "<img src='assets/fashion-mnist-sprite.png' width=500px>\n",
    "\n",
    "In this notebook, you'll build your own neural network. For the most part, you could just copy and paste the code from Part 3, but you wouldn't be learning. It's important for you to write the code yourself and get it to work. Feel free to consult the previous notebooks though as you work through this.\n",
    "\n",
    "First off, let's load the dataset through torchvision."
   ]
  },
  {
   "cell_type": "code",
   "execution_count": 18,
   "metadata": {},
   "outputs": [],
   "source": [
    "import torch\n",
    "from torchvision import datasets, transforms\n",
    "\n",
    "from torch import nn\n",
    "from torch import optim\n",
    "import torch.nn.functional as F\n",
    "\n",
    "import helper\n",
    "\n",
    "# Define a transform to normalize the data\n",
    "transform = transforms.Compose([transforms.ToTensor(),\n",
    "                                transforms.Normalize((0.5,), (0.5,))])\n",
    "# Download and load the training data\n",
    "trainset = datasets.FashionMNIST('~/.pytorch/F_MNIST_data/', download=True, train=True, transform=transform)\n",
    "trainloader = torch.utils.data.DataLoader(trainset, batch_size=64, shuffle=True)\n",
    "\n",
    "# Download and load the test data\n",
    "testset = datasets.FashionMNIST('~/.pytorch/F_MNIST_data/', download=True, train=False, transform=transform)\n",
    "testloader = torch.utils.data.DataLoader(testset, batch_size=64, shuffle=True)"
   ]
  },
  {
   "cell_type": "markdown",
   "metadata": {},
   "source": [
    "Here we can see one of the images."
   ]
  },
  {
   "cell_type": "code",
   "execution_count": 19,
   "metadata": {},
   "outputs": [
    {
     "output_type": "display_data",
     "data": {
      "text/plain": "<Figure size 432x288 with 1 Axes>",
      "image/svg+xml": "<?xml version=\"1.0\" encoding=\"utf-8\" standalone=\"no\"?>\r\n<!DOCTYPE svg PUBLIC \"-//W3C//DTD SVG 1.1//EN\"\r\n  \"http://www.w3.org/Graphics/SVG/1.1/DTD/svg11.dtd\">\r\n<!-- Created with matplotlib (https://matplotlib.org/) -->\r\n<svg height=\"231.84pt\" version=\"1.1\" viewBox=\"0 0 231.84 231.84\" width=\"231.84pt\" xmlns=\"http://www.w3.org/2000/svg\" xmlns:xlink=\"http://www.w3.org/1999/xlink\">\r\n <metadata>\r\n  <rdf:RDF xmlns:cc=\"http://creativecommons.org/ns#\" xmlns:dc=\"http://purl.org/dc/elements/1.1/\" xmlns:rdf=\"http://www.w3.org/1999/02/22-rdf-syntax-ns#\">\r\n   <cc:Work>\r\n    <dc:type rdf:resource=\"http://purl.org/dc/dcmitype/StillImage\"/>\r\n    <dc:date>2020-11-17T22:38:41.325818</dc:date>\r\n    <dc:format>image/svg+xml</dc:format>\r\n    <dc:creator>\r\n     <cc:Agent>\r\n      <dc:title>Matplotlib v3.3.1, https://matplotlib.org/</dc:title>\r\n     </cc:Agent>\r\n    </dc:creator>\r\n   </cc:Work>\r\n  </rdf:RDF>\r\n </metadata>\r\n <defs>\r\n  <style type=\"text/css\">*{stroke-linecap:butt;stroke-linejoin:round;}</style>\r\n </defs>\r\n <g id=\"figure_1\">\r\n  <g id=\"patch_1\">\r\n   <path d=\"M 0 231.84 \r\nL 231.84 231.84 \r\nL 231.84 0 \r\nL 0 0 \r\nz\r\n\" style=\"fill:none;\"/>\r\n  </g>\r\n  <g id=\"axes_1\">\r\n   <g id=\"patch_2\">\r\n    <path d=\"M 7.2 224.64 \r\nL 224.64 224.64 \r\nL 224.64 7.2 \r\nL 7.2 7.2 \r\nz\r\n\" style=\"fill:#ffffff;\"/>\r\n   </g>\r\n   <g clip-path=\"url(#p1568da0c16)\">\r\n    <image height=\"218\" id=\"imageb201dabda1\" transform=\"scale(1 -1)translate(0 -218)\" width=\"218\" x=\"7.2\" xlink:href=\"data:image/png;base64,\r\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\" y=\"-6.64\"/>\r\n   </g>\r\n   <g id=\"matplotlib.axis_1\">\r\n    <g id=\"xtick_1\">\r\n     <g id=\"line2d_1\"/>\r\n    </g>\r\n    <g id=\"xtick_2\">\r\n     <g id=\"line2d_2\"/>\r\n    </g>\r\n    <g id=\"xtick_3\">\r\n     <g id=\"line2d_3\"/>\r\n    </g>\r\n    <g id=\"xtick_4\">\r\n     <g id=\"line2d_4\"/>\r\n    </g>\r\n    <g id=\"xtick_5\">\r\n     <g id=\"line2d_5\"/>\r\n    </g>\r\n    <g id=\"xtick_6\">\r\n     <g id=\"line2d_6\"/>\r\n    </g>\r\n   </g>\r\n   <g id=\"matplotlib.axis_2\">\r\n    <g id=\"ytick_1\">\r\n     <g id=\"line2d_7\"/>\r\n    </g>\r\n    <g id=\"ytick_2\">\r\n     <g id=\"line2d_8\"/>\r\n    </g>\r\n    <g id=\"ytick_3\">\r\n     <g id=\"line2d_9\"/>\r\n    </g>\r\n    <g id=\"ytick_4\">\r\n     <g id=\"line2d_10\"/>\r\n    </g>\r\n    <g id=\"ytick_5\">\r\n     <g id=\"line2d_11\"/>\r\n    </g>\r\n    <g id=\"ytick_6\">\r\n     <g id=\"line2d_12\"/>\r\n    </g>\r\n   </g>\r\n  </g>\r\n </g>\r\n <defs>\r\n  <clipPath id=\"p1568da0c16\">\r\n   <rect height=\"217.44\" width=\"217.44\" x=\"7.2\" y=\"7.2\"/>\r\n  </clipPath>\r\n </defs>\r\n</svg>\r\n",
      "image/png": "[encoded data removed]"
     },
     "metadata": {
      "needs_background": "light"
     }
    }
   ],
   "source": [
    "image, label = next(iter(trainloader))\n",
    "helper.imshow(image[0,:]);"
   ]
  },
  {
   "cell_type": "markdown",
   "metadata": {},
   "source": [
    "## Building the network\n",
    "\n",
    "Here you should define your network. As with MNIST, each image is 28x28 which is a total of 784 pixels, and there are 10 classes. You should include at least one hidden layer. We suggest you use ReLU activations for the layers and to return the logits or log-softmax from the forward pass. It's up to you how many layers you add and the size of those layers."
   ]
  },
  {
   "cell_type": "code",
   "execution_count": 20,
   "metadata": {},
   "outputs": [],
   "source": [
    "# TODO: Define your network architecture here\n",
    "# Define feed-forward network\n",
    "model = nn.Sequential(\n",
    "            nn.Linear(784,128), # hidden layer 1\n",
    "            nn.ReLU(),          # ReLU activation function\n",
    "            nn.Linear(128,64),  # hidden layer 2\n",
    "            nn.ReLU(),          # ReLU activation function\n",
    "            nn.Linear(64,10),    # output layer,\n",
    "            nn.LogSoftmax(dim=1)\n",
    "          )\n"
   ]
  },
  {
   "cell_type": "markdown",
   "metadata": {},
   "source": [
    "# Train the network\n",
    "\n",
    "Now you should create your network and train it. First you'll want to define [the criterion](http://pytorch.org/docs/master/nn.html#loss-functions) ( something like `nn.CrossEntropyLoss`) and [the optimizer](http://pytorch.org/docs/master/optim.html) (typically `optim.SGD` or `optim.Adam`).\n",
    "\n",
    "Then write the training code. Remember the training pass is a fairly straightforward process:\n",
    "\n",
    "* Make a forward pass through the network to get the logits \n",
    "* Use the logits to calculate the loss\n",
    "* Perform a backward pass through the network with `loss.backward()` to calculate the gradients\n",
    "* Take a step with the optimizer to update the weights\n",
    "\n",
    "By adjusting the hyperparameters (hidden units, learning rate, etc), you should be able to get the training loss below 0.4."
   ]
  },
  {
   "cell_type": "code",
   "execution_count": 27,
   "metadata": {},
   "outputs": [],
   "source": [
    "# TODO: Create the network, define the criterion and optimizer\n",
    "\n",
    "# Define loss function\n",
    "criterion = nn.NLLLoss()\n",
    "\n",
    "# Define optimizer\n",
    "optimizer = optim.SGD(model.parameters(), lr=0.03)"
   ]
  },
  {
   "cell_type": "code",
   "execution_count": 28,
   "metadata": {},
   "outputs": [
    {
     "output_type": "stream",
     "name": "stdout",
     "text": [
      "Training loss: 0.26672348234730997\n",
      "Training loss: 0.259813018135234\n",
      "Training loss: 0.2523056341609213\n",
      "Training loss: 0.24758380549008657\n",
      "Training loss: 0.24140430833183246\n"
     ]
    }
   ],
   "source": [
    "# TODO: Train the network here\n",
    "epochs = 5\n",
    "for e in range(epochs):\n",
    "    running_loss = 0\n",
    "    for images, labels in trainloader:\n",
    "        # Flatten MNIST images into a 784 long vector\n",
    "        images = images.view(images.shape[0], -1)\n",
    "    \n",
    "        optimizer.zero_grad()\n",
    "\n",
    "        # Training pass\n",
    "        logits = model.forward(images)\n",
    "        loss = criterion(logits, labels)\n",
    "        loss.backward()\n",
    "        optimizer.step()\n",
    "        \n",
    "        running_loss += loss.item()\n",
    "    else:\n",
    "        print(f\"Training loss: {running_loss/len(trainloader)}\")"
   ]
  },
  {
   "cell_type": "code",
   "execution_count": 34,
   "metadata": {},
   "outputs": [
    {
     "output_type": "display_data",
     "data": {
      "text/plain": "<Figure size 432x648 with 2 Axes>",
      "image/png": "[encoded data removed]"
     },
     "metadata": {
      "image/png": {
       "width": 424,
       "height": 216
      },
      "needs_background": "light"
     }
    }
   ],
   "source": [
    "%matplotlib inline\n",
    "%config InlineBackend.figure_format = 'retina'\n",
    "\n",
    "import helper\n",
    "\n",
    "# Test out your network!\n",
    "\n",
    "dataiter = iter(testloader)\n",
    "images, labels = dataiter.next()\n",
    "img = images[0]\n",
    "# Convert 2D image to 1D vector\n",
    "img = img.resize_(1, 784)\n",
    "\n",
    "\n",
    "# TODO: Calculate the class probabilities (softmax) for img\n",
    "with torch.no_grad():\n",
    "    ps = torch.exp(model(img))\n",
    "\n",
    "# Plot the image and probabilities\n",
    "helper.view_classify(img.resize_(1, 28, 28), ps, version='Fashion')"
   ]
  },
  {
   "cell_type": "code",
   "execution_count": null,
   "metadata": {},
   "outputs": [],
   "source": []
  }
 ],
 "metadata": {
  "kernelspec": {
   "display_name": "Python 3",
   "language": "python",
   "name": "python3"
  },
  "language_info": {
   "codemirror_mode": {
    "name": "ipython",
    "version": 3
   },
   "file_extension": ".py",
   "mimetype": "text/x-python",
   "name": "python",
   "nbconvert_exporter": "python",
   "pygments_lexer": "ipython3",
   "version": "3.8.5-final"
  }
 },
 "nbformat": 4,
 "nbformat_minor": 2
}