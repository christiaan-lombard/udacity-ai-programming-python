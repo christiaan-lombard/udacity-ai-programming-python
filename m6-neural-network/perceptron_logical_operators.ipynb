{
 "metadata": {
  "language_info": {
   "codemirror_mode": {
    "name": "ipython",
    "version": 3
   },
   "file_extension": ".py",
   "mimetype": "text/x-python",
   "name": "python",
   "nbconvert_exporter": "python",
   "pygments_lexer": "ipython3",
   "version": "3.8.5-final"
  },
  "orig_nbformat": 2,
  "kernelspec": {
   "name": "Python 3.8.5 64-bit (conda)",
   "display_name": "Python 3.8.5 64-bit (conda)",
   "metadata": {
    "interpreter": {
     "hash": "7fb54e1c2fba0062c08d19c653219f996eba8ab08534751fcdeb746104d3a715"
    }
   }
  }
 },
 "nbformat": 4,
 "nbformat_minor": 2,
 "cells": [
  {
   "source": [
    "# Perceptrons as Logical Operators\n",
    "\n"
   ],
   "cell_type": "markdown",
   "metadata": {}
  },
  {
   "cell_type": "code",
   "execution_count": 1,
   "metadata": {},
   "outputs": [],
   "source": [
    "import pandas as pd\n",
    "\n",
    "def test(weight1, weight2, bias, test_inputs, correct_outputs):\n",
    "    outputs = []\n",
    "    # Generate and check output\n",
    "    for test_input, correct_output in zip(test_inputs, correct_outputs):\n",
    "        linear_combination = weight1 * test_input[0] + weight2 * test_input[1] + bias\n",
    "        output = int(linear_combination >= 0)\n",
    "        is_correct_string = 'Yes' if output == correct_output else 'No'\n",
    "        outputs.append([test_input[0], test_input[1], linear_combination, output, is_correct_string])\n",
    "\n",
    "    # Print output\n",
    "    num_wrong = len([output[4] for output in outputs if output[4] == 'No'])\n",
    "    output_frame = pd.DataFrame(outputs, columns=['Input 1', '  Input 2', '  Linear Combination', '  Activation Output', '  Is Correct'])\n",
    "    if not num_wrong:\n",
    "        print('Nice!  You got it all correct.\\n')\n",
    "    else:\n",
    "        print('You got {} wrong.  Keep trying!\\n'.format(num_wrong))\n",
    "    print(output_frame.to_string(index=False))"
   ]
  },
  {
   "source": [
    "## AND Perceptron"
   ],
   "cell_type": "markdown",
   "metadata": {}
  },
  {
   "cell_type": "code",
   "execution_count": 2,
   "metadata": {},
   "outputs": [
    {
     "output_type": "stream",
     "name": "stdout",
     "text": [
      "Nice!  You got it all correct.\n\n Input 1    Input 2    Linear Combination    Activation Output   Is Correct\n       0          0                    -2                    0          Yes\n       0          1                    -1                    0          Yes\n       1          0                    -1                    0          Yes\n       1          1                     0                    1          Yes\n"
     ]
    }
   ],
   "source": [
    "# Set weight1, weight2, and bias\n",
    "and_weight1 = 1\n",
    "and_weight2 = 1\n",
    "and_bias = -2\n",
    "\n",
    "# truth table for AND\n",
    "and_test_inputs = [(0, 0), (0, 1), (1, 0), (1, 1)]\n",
    "and_correct_outputs = [False, False, False, True]\n",
    "\n",
    "test(and_weight1, and_weight2, and_bias, and_test_inputs, and_correct_outputs)"
   ]
  },
  {
   "source": [
    "## OR Perceptron"
   ],
   "cell_type": "markdown",
   "metadata": {}
  },
  {
   "cell_type": "code",
   "execution_count": 3,
   "metadata": {},
   "outputs": [
    {
     "output_type": "stream",
     "name": "stdout",
     "text": [
      "Nice!  You got it all correct.\n\n Input 1    Input 2    Linear Combination    Activation Output   Is Correct\n       0          0                    -1                    0          Yes\n       0          1                     0                    1          Yes\n       1          0                     0                    1          Yes\n       1          1                     1                    1          Yes\n"
     ]
    }
   ],
   "source": [
    "# Set weight1, weight2, and bias\n",
    "or_weight1 = 1\n",
    "or_weight2 = 1\n",
    "or_bias = -1\n",
    "\n",
    "# truth table for or\n",
    "or_test_inputs = [(0, 0), (0, 1), (1, 0), (1, 1)]\n",
    "or_correct_outputs = [False, True, True, True]\n",
    "\n",
    "test(or_weight1, or_weight2, or_bias, or_test_inputs, or_correct_outputs)"
   ]
  },
  {
   "source": [
    "## NOT Perceptron"
   ],
   "cell_type": "markdown",
   "metadata": {}
  },
  {
   "cell_type": "code",
   "execution_count": 4,
   "metadata": {},
   "outputs": [
    {
     "output_type": "stream",
     "name": "stdout",
     "text": [
      "Nice!  You got it all correct.\n\n Input 1    Input 2    Linear Combination    Activation Output   Is Correct\n       0          0                     0                    1          Yes\n       0          1                    -1                    0          Yes\n       1          0                     0                    1          Yes\n       1          1                    -1                    0          Yes\n"
     ]
    }
   ],
   "source": [
    "# Set weight1, weight2, and bias\n",
    "not_weight1 = 0\n",
    "not_weight2 = -1\n",
    "not_bias = 0\n",
    "\n",
    "# truth table for NOT\n",
    "not_test_inputs = [(0, 0), (0, 1), (1, 0), (1, 1)]\n",
    "not_correct_outputs = [True, False, True, False]\n",
    "not_outputs = []\n",
    "\n",
    "test(not_weight1, not_weight2, not_bias, not_test_inputs, not_correct_outputs)"
   ]
  }
 ]
}