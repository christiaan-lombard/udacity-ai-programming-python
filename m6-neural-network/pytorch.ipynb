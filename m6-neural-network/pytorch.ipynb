{
 "metadata": {
  "language_info": {
   "codemirror_mode": {
    "name": "ipython",
    "version": 3
   },
   "file_extension": ".py",
   "mimetype": "text/x-python",
   "name": "python",
   "nbconvert_exporter": "python",
   "pygments_lexer": "ipython3",
   "version": "3.8.5-final"
  },
  "orig_nbformat": 2,
  "kernelspec": {
   "name": "python3",
   "display_name": "Python 3"
  }
 },
 "nbformat": 4,
 "nbformat_minor": 2,
 "cells": [
  {
   "source": [
    "# PyTorch\n",
    "\n",
    "\n",
    "\n"
   ],
   "cell_type": "markdown",
   "metadata": {}
  },
  {
   "cell_type": "code",
   "execution_count": 13,
   "metadata": {},
   "outputs": [
    {
     "output_type": "stream",
     "name": "stdout",
     "text": [
      "Using device: cuda\n\nGeForce RTX 2070 SUPER\nMemory Usage:\nAllocated: 0.0 GB\nCached:    0.0 GB\n"
     ]
    }
   ],
   "source": [
    "import torch\n",
    "from torch import nn\n",
    "import torch.nn.functional as F\n",
    "from torchvision import datasets, transforms\n",
    "from torch import optim\n",
    "\n",
    "# setting device on GPU if available, else CPU\n",
    "device = torch.device('cuda' if torch.cuda.is_available() else 'cpu')\n",
    "print('Using device:', device)\n",
    "print()\n",
    "\n",
    "#Additional Info when using cuda\n",
    "if device.type == 'cuda':\n",
    "    print(torch.cuda.get_device_name(0))\n",
    "    print('Memory Usage:')\n",
    "    print('Allocated:', round(torch.cuda.memory_allocated(0)/1024**3,1), 'GB')\n",
    "    print('Cached:   ', round(torch.cuda.memory_reserved(0)/1024**3,1), 'GB')"
   ]
  },
  {
   "source": [
    "## Tensors\n",
    "\n",
    "A `torch.Tensor` is a multi-dimensional matrix containing elements of a single data type. (Similar to Numpy Array)\n"
   ],
   "cell_type": "markdown",
   "metadata": {}
  },
  {
   "cell_type": "code",
   "execution_count": 4,
   "metadata": {},
   "outputs": [
    {
     "output_type": "execute_result",
     "data": {
      "text/plain": [
       "tensor([[1, 2, 3],\n",
       "        [4, 5, 6],\n",
       "        [7, 8, 9]], device='cuda:0')"
      ]
     },
     "metadata": {},
     "execution_count": 4
    }
   ],
   "source": [
    "torch.tensor([\n",
    "    [1,2,3],\n",
    "    [4,5,6],\n",
    "    [7,8,9]\n",
    "], device=device)"
   ]
  },
  {
   "source": [
    "### Constructors\n",
    "\n",
    " - `torch.randn(size)` - Returns a tensor filled with random numbers from a normal distribution with mean 0 and variance 1.\n",
    " - `torch.randn_like(array_like)` - Returns a tensor with the same size as input that is filled with random numbers from a normal distribution with mean 0 and variance 1.\n",
    " - `torch.zeros(size)` - Returns a tensor filled with the scalar value 0.\n",
    " - `torch.zeros_like(array_like)` - Returns a tensor filled with the scalar value 0, with the same size as input.\n",
    "\n",
    "### Parameters\n",
    "- `data` (array_like) – The returned Tensor copies data.\n",
    "- `dtype` (`torch.dtype`, optional) – the desired type of returned tensor. Default: if None, same torch.dtype as this tensor.\n",
    "- `device` (`torch.device`, optional) – the desired device of returned tensor. Default: if None, same torch.device as this tensor.\n",
    "- `requires_grad` (bool, optional) – If autograd should record operations on the returned tensor. Default: False.\n",
    "\n",
    "### Data Types\n",
    "\n",
    "| Data type | dtype |\n",
    "|---|---|\n",
    "| 32-bit floating point | `torch.float32` or `torch.float` |\n",
    "| 64-bit floating point | `torch.float64` or `torch.double` |\n",
    "| 64-bit complex | `torch.complex64` or `torch.cfloat` |\n",
    "| 128-bit complex | `torch.complex128` or `torch.cdouble` |\n",
    "| 16-bit floating point 1 | `torch.float16` or `torch.half` |\n",
    "| 16-bit floating point 2 | `torch.bfloat16` |\n",
    "| 8-bit integer (unsigned) | `torch.uint8` |\n",
    "| 8-bit integer (signed) | `torch.int8` |\n",
    "| 16-bit integer (signed) | `torch.int16` or `torch.short` |\n",
    "| 32-bit integer (signed) | `torch.int32` or `torch.int` |\n",
    "| 64-bit integer (signed) | `torch.int64` or `torch.long` |\n",
    "| Boolean | `torch.bool` |"
   ],
   "cell_type": "markdown",
   "metadata": {}
  },
  {
   "source": [
    "### Tensor Arithmitic\n",
    "\n",
    "- `torch.mm(input1, input2)` - Performs a matrix multiplication of the matrices input1 and input2.\n",
    "- `torch.sum(input)` - Returns the sum of all elements in the input tensor.\n",
    "- `torch.matmul(input1, input2)` - Matrix product of two tensors. (The behavior depends on the dimensionality of the tensors)"
   ],
   "cell_type": "markdown",
   "metadata": {}
  },
  {
   "source": [
    "### Tensor Reshape\n",
    "\n",
    "- `tensor.reshape(a,b)`\n",
    "- `tensor.resize_(a,b)` - Returns the same tensor with a different shape\n",
    "- `tensor.view(a,b)`"
   ],
   "cell_type": "markdown",
   "metadata": {}
  },
  {
   "source": [
    "## Datasets\n",
    "\n",
    "Torchvision module provides some datasets that can be downloaded.\n",
    "\n",
    "See [torchvision.datasets](https://pytorch.org/docs/stable/torchvision/datasets.html)"
   ],
   "cell_type": "markdown",
   "metadata": {}
  },
  {
   "cell_type": "code",
   "execution_count": 11,
   "metadata": {},
   "outputs": [
    {
     "output_type": "execute_result",
     "data": {
      "text/plain": [
       "tensor([9, 0, 9, 7, 7, 8, 3, 3, 5, 4, 9, 6, 3, 8, 2, 9, 0, 6, 9, 1, 6, 0, 6, 2,\n",
       "        5, 5, 3, 8, 4, 1, 8, 8, 9, 1, 3, 3, 4, 7, 9, 0, 8, 3, 1, 3, 5, 6, 2, 2,\n",
       "        7, 0, 6, 7, 9, 1, 4, 9, 8, 1, 7, 3, 9, 7, 5, 7])"
      ]
     },
     "metadata": {},
     "execution_count": 11
    }
   ],
   "source": [
    "# define transform to normalize data\n",
    "data_transform = transforms.Compose([\n",
    "                    transforms.ToTensor(), \n",
    "                    transforms.Normalize((0.5,), (0.5,))\n",
    "                ])\n",
    "\n",
    "trainset = datasets.MNIST('~/.pytorch/MNIST_data/', download=True, train=True, transform=data_transform)\n",
    "trainloader = torch.utils.data.DataLoader(trainset, batch_size=64, shuffle=True)\n",
    "\n",
    "# Get our data\n",
    "images, labels = next(iter(trainloader))\n",
    "\n",
    "labels"
   ]
  },
  {
   "source": [
    "## Neural Network\n",
    "\n"
   ],
   "cell_type": "markdown",
   "metadata": {}
  },
  {
   "cell_type": "code",
   "execution_count": 15,
   "metadata": {},
   "outputs": [
    {
     "output_type": "stream",
     "name": "stdout",
     "text": [
      "Training loss: 1.013490302110913\n",
      "Training loss: 0.38199806323787294\n",
      "Training loss: 0.3228171606069562\n",
      "Training loss: 0.2900727862345257\n",
      "Training loss: 0.26480596926388966\n"
     ]
    }
   ],
   "source": [
    "# Define feed-forward network\n",
    "model = nn.Sequential(\n",
    "            nn.Linear(784,128), # hidden layer 1\n",
    "            nn.ReLU(),          # ReLU activation function\n",
    "            nn.Linear(128,64),  # hidden layer 2\n",
    "            nn.ReLU(),          # ReLU activation function\n",
    "            nn.Linear(64,10)    # output layer\n",
    "          )\n",
    "\n",
    "# Define loss function\n",
    "criterion = nn.CrossEntropyLoss()\n",
    "\n",
    "# Define optimizer\n",
    "optimizer = optim.SGD(model.parameters(), lr=0.01)\n",
    "\n",
    "epochs = 2\n",
    "for e in range(epochs):\n",
    "    running_loss = 0\n",
    "    for images, labels in trainloader:\n",
    "        # Flatten MNIST images into a 784 long vector\n",
    "        images = images.view(images.shape[0], -1)\n",
    "    \n",
    "        optimizer.zero_grad()\n",
    "\n",
    "        # Training pass\n",
    "        logits = model.forward(images)\n",
    "        loss = criterion(logits, labels)\n",
    "        loss.backward()\n",
    "        optimizer.step()\n",
    "        \n",
    "        running_loss += loss.item()\n",
    "    else:\n",
    "        print(f\"Training loss: {running_loss/len(trainloader)}\")"
   ]
  },
  {
   "source": [
    "### Linear Transformation\n",
    "\n",
    "- `nn.Linear(in_features, out_features, bias=True)` - Applies a linear transformation to the incoming data: $y = xA^T + b$\n",
    "  - `in_features` – size of each input sample\n",
    "  - `out_features` – size of each output sample\n",
    "  - `bias` – If set to False, the layer will not learn an additive bias. Default: True\n",
    "\n",
    "### Activation Functions\n",
    "\n",
    "- `nn.ReLU()` - Applies the rectified linear unit function element-wise $ReLU(x)=(x)^+=max(0,x)$\n",
    "- `nn.Sigmoid()` - Applies the sigmoid function $Sigmoid(x) = \\sigma(x) = 1 \\div (1 + e^{-x})$\n",
    "- `nn.Softmax(dim)` - Applies the Softmax function to an n-dimensional input Tensor rescaling them so that the elements of the n-dimensional output Tensor lie in the range [0,1] and sum to 1. $Sofmax(x_i) = e^{x_i} \\div (\\sum_j e^{x_j})$\n",
    "\n",
    "### Loss Functions\n",
    "\n",
    "- `nn.NLLLoss()` - The negative log likelihood loss. It is useful to train a classification problem with C classes.\n",
    "- `nn.CrossEntropyLoss()` - This criterion combines `nn.LogSoftmax()` and `nn.NLLLoss()` in one single class."
   ],
   "cell_type": "markdown",
   "metadata": {}
  }
 ]
}