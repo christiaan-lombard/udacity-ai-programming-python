{
 "metadata": {
  "language_info": {
   "codemirror_mode": {
    "name": "ipython",
    "version": 3
   },
   "file_extension": ".py",
   "mimetype": "text/x-python",
   "name": "python",
   "nbconvert_exporter": "python",
   "pygments_lexer": "ipython3",
   "version": "3.8.5-final"
  },
  "orig_nbformat": 2,
  "kernelspec": {
   "name": "python3",
   "display_name": "Python 3"
  }
 },
 "nbformat": 4,
 "nbformat_minor": 2,
 "cells": [
  {
   "source": [
    "# Linear Algebra\n",
    "\n"
   ],
   "cell_type": "markdown",
   "metadata": {}
  },
  {
   "cell_type": "code",
   "execution_count": 15,
   "metadata": {},
   "outputs": [],
   "source": [
    "import numpy as np"
   ]
  },
  {
   "source": [
    "# Linear Algebra\n",
    "\n",
    "\n",
    "## Symbols\n",
    "\n",
    " - Vector: $\\vec{x}$\n",
    " - Magnitude: $\\begin{Vmatrix} \\end{Vmatrix}$\n",
    "\n",
    "## Vectors\n",
    "\n",
    "A vector is an ordered list of numbers.\n",
    "\n",
    "$\\vec{a} = \\begin{bmatrix} a_1 \\\\ a_2 \\\\ a_3 \\\\ \\ldots \\\\ a_n \\end{bmatrix}$\n",
    "\n",
    "$\\vec{a} \\in \\mathbb{R}^n$\n",
    "\n",
    "- Each element in the vector, also called component or coordinate, is a number, denoted here by $a_i$.\n",
    "- This specific vector has $n$ elements and can be in the field of Real Numbers $\\mathbb{R}$.\n",
    "- A vector of $n$ real elements defines an $n$ dimensional vector and belongs to $\\mathbb{R}^n$\n",
    "\n",
    "### Vector addition:\n",
    "\n",
    "$\\begin{bmatrix} x_1 \\\\ y_1 \\end{bmatrix} + \\begin{bmatrix} x_2 \\\\ y_2 \\end{bmatrix} = \\begin{bmatrix} x_1 + x_2 \\\\ y_1 + y_2 \\end{bmatrix}$\n",
    "\n",
    "### Vector magnitude:\n",
    "\n",
    "$\\vec{a} = \\begin{bmatrix} x_1 \\\\ y_1 \\end{bmatrix}$\n",
    "\n",
    "$\\begin{Vmatrix}\\vec{a}\\end{Vmatrix} = \\sqrt{x_1^2 + y_1^2}$\n",
    "\n",
    "\n",
    "## Linear Combinations\n",
    "\n",
    "The **basis** of a vector space is a set of **linearly independent** vectors that **span** the full space.\n",
    "\n",
    "Definition of a linear combination is a multiplication of a scalar to a variable and addition of those terms:\n",
    "\n",
    "If $x$, $y$ and $z$ are vectors, and $a_1$, $a_2$ and $a_3$ are scalars, the following equations will be a linear combination:\n",
    "\n",
    "$\\vec{v} = a_1 \\vec{x} + a_2 \\vec{y} + a_3 \\vec{z}$\n",
    "\n",
    "If $\\vec{v_1}, \\vec{v_2}, ..., \\vec{v_n} \\in \\mathbb{R}$ then the **Span** of those vectors (also referred to as the Linear Span) is the set of all possible linear combinations of those vectors: $Sp(\\vec{v_1}, \\vec{v_2}, \\vec{v_n})$\n",
    "\n",
    "\n",
    "\n",
    "\n"
   ],
   "cell_type": "markdown",
   "metadata": {}
  },
  {
   "source": [
    "# Creates matrix t (right side of the augmented matrix).\n",
    "t = np.array([4, 11])\n",
    "\n",
    "# Creates matrix vw (left side of the augmented matrix).\n",
    "vw = np.array([[1, 2], [3, 5]])\n",
    "\n",
    "# Prints vw and t\n",
    "print(\"Matrix vw:\\n\", vw)\n",
    "print(\"Vector t:\", t)\n",
    "\n",
    "np.linalg.solve(vw, t)\n"
   ],
   "cell_type": "code",
   "metadata": {},
   "execution_count": 32,
   "outputs": [
    {
     "output_type": "stream",
     "name": "stdout",
     "text": [
      "Matrix vw:\n [[1 2]\n [3 5]]\nVector t: [ 4 11]\n"
     ]
    },
    {
     "output_type": "execute_result",
     "data": {
      "text/plain": [
       "array([2., 1.])"
      ]
     },
     "metadata": {},
     "execution_count": 32
    }
   ]
  },
  {
   "source": [
    "def check_vector_span(set_of_vectors, vector_to_check):\n",
    "    # Creates an empty vector of correct size\n",
    "    vector_of_scalars = np.asarray([None]*set_of_vectors.shape[0])\n",
    "    \n",
    "    # Solves for the scalars that make the equation true if vector is within the span\n",
    "    try:\n",
    "        # TODO: Use np.linalg.solve() function here to solve for vector_of_scalars\n",
    "        vector_of_scalars = np.linalg.solve(set_of_vectors, vector_to_check)\n",
    "        if not (vector_of_scalars is None):\n",
    "            print(\"\\nVector is within span.\\nScalars in s:\", vector_of_scalars)\n",
    "    # Handles the cases when the vector is NOT within the span   \n",
    "    except Exception as exception_type:\n",
    "        if str(exception_type) == \"Singular matrix\":\n",
    "            print(\"\\nNo single solution\\nVector is NOT within span\")\n",
    "        else:\n",
    "            print(\"\\nUnexpected Exception Error:\", exception_type)\n",
    "    return vector_of_scalars\n",
    "\n",
    "print(\"\\nEquation 1:\\n Matrix vw:\", vw, \"\\nVector t:\", t, sep=\"\\n\")\n",
    "s = check_vector_span(vw,t)\n",
    "\n",
    "vw2 = np.array([[1, 2], [2, 4]]) \n",
    "t2 = np.array([6, 12])\n",
    "print(\"\\nNew Vectors:\\n Matrix vw2:\", vw2, \"\\nVector t2:\", t2, sep=\"\\n\")    \n",
    "s2 = check_vector_span(vw2,t2)"
   ],
   "cell_type": "code",
   "metadata": {},
   "execution_count": 33,
   "outputs": [
    {
     "output_type": "stream",
     "name": "stdout",
     "text": [
      "\nEquation 1:\n Matrix vw:\n[[1 2]\n [3 5]]\n\nVector t:\n[ 4 11]\n\nVector is within span.\nScalars in s: [2. 1.]\n\nNew Vectors:\n Matrix vw2:\n[[1 2]\n [2 4]]\n\nVector t2:\n[ 6 12]\n\nNo single solution\nVector is NOT within span\n"
     ]
    }
   ]
  },
  {
   "source": [
    "## Matrix\n",
    "\n",
    "- A Matrix is a two dimensional array that contains the same elements as the vector.\n",
    "- A Matrix can have $m$ rows and $n$ columns.\n",
    "- If a Matrix has $m$ rows and $n$ columns is it called an $m \\times n$ matrix.\n",
    "\n",
    "\n",
    "$A = \\begin{bmatrix} a_11 & a_12 & a_13 & ... & a_1n \\\\ a_21 & a_22 & a_23 & ... & a_2n \\\\ a_31 & a_32 & a_33 & ... & a_3n \\\\ ... & ... & ... & ... & ... \\\\ a_m1 & a_m2 & a_m3 & ... & a_mn \\end{bmatrix}$\n",
    "\n",
    "### Matrix Addition\n",
    "\n",
    "To add one matrix to the other we need to:\n",
    "\n",
    "- Verify that the matrices are of the **same dimensions**\n",
    "- Make sure we add elements in the correct corresponding index.\n",
    "\n",
    "$$\n",
    "A + B =\n",
    "\\begin{bmatrix}\n",
    "a_{11} & a_{12} & a_{13} & ... & a_{1n} \\\\\n",
    "a_{21} & a_{22} & a_{23} & ... & a_{2n} \\\\\n",
    "a_{31} & a_{32} & a_{33} & ... & a_{3n} \\\\\n",
    "... & ... & ... & ... & ... \\\\\n",
    "a_{m1} & a_{m2} & a_{m3} & ... & a_{mn}\n",
    "\\end{bmatrix} +\n",
    "\\begin{bmatrix}\n",
    "b_{11} & b_{12} & b_{13} & ... & b_{1n} \\\\\n",
    "b_{21} & b_{22} & b_{23} & ... & b_{2n} \\\\\n",
    "b_{31} & b_{32} & b_{33} & ... & b_{3n} \\\\\n",
    "... & ... & ... & ... & ... \\\\\n",
    "b_{m1} & b_{m2} & b_{m3} & ... & b_{mn}\n",
    "\\end{bmatrix}\n",
    "\n",
    "$$\n",
    "\n",
    "$$\n",
    "A + B =\n",
    "\\begin{bmatrix}\n",
    "a_{11} + b_{11} & a_{12} + b_{12} & a_{13} + b_{13} & ... & a_{1n} + b_{1n} \\\\\n",
    "a_{21} + b_{21} & a_{22} + b_{22} & a_{23} + b_{23} & ... & a_{2n} + b_{2n} \\\\\n",
    "a_{31} + b_{31} & a_{32} + b_{32} & a_{33} + b_{33} & ... & a_{3n} + b_{3n} \\\\\n",
    "... & ... & ... & ... & ... \\\\\n",
    "a_{m1} + b_{m1} & a_{m2} + b_{m2} & a_{m3} + b_{m3} & ... & a_{mn} + b_{mn}\n",
    "\\end{bmatrix}\n",
    "$$\n",
    "\n"
   ],
   "cell_type": "markdown",
   "metadata": {}
  },
  {
   "cell_type": "code",
   "execution_count": 22,
   "metadata": {},
   "outputs": [
    {
     "output_type": "stream",
     "name": "stdout",
     "text": [
      "A + B =  [[  6.   4.  -8.]\n [ 18. -25.   0.]\n [ 19.  -1.  88.]\n [  2.  12.   8.]\n [  2.   9.  10.]]\nDimensions of A = (5, 3)\nDimensions of B = (5, 3)\nDimensions of A + B = (5, 3)\n"
     ]
    }
   ],
   "source": [
    "A = np.array([[4,2,-4], \n",
    "             [9,-11,0],\n",
    "             [6,-0.5,44],\n",
    "             [1,3,4],\n",
    "             [2,9,5]])\n",
    "B = np.array([[2,2,-4], \n",
    "             [9,-14,0],\n",
    "             [13,-0.5,44],\n",
    "             [1,9,4],\n",
    "             [0,0,5]])\n",
    "\n",
    "ApB = np.add(A, B)\n",
    "print(\"A + B = \", ApB)\n",
    "print(\"Dimensions of A =\", A.shape)\n",
    "print(\"Dimensions of B =\", B.shape)\n",
    "print(\"Dimensions of A + B =\", ApB.shape)"
   ]
  },
  {
   "source": [
    "### Matrix Scalar Multiplication\n",
    "\n",
    "$$\n",
    "\\alpha A =\n",
    "\\begin{bmatrix}\n",
    "\\alpha a_{11} & \\alpha a_{12} & \\alpha a_{13} & ... & \\alpha a_{1n} \\\\\n",
    "\\alpha a_{21} & \\alpha a_{22} & \\alpha a_{23} & ... & \\alpha a_{2n} \\\\\n",
    "\\alpha a_{31} & \\alpha a_{32} & \\alpha a_{33} & ... & \\alpha a_{3n} \\\\\n",
    "... & ... & ... & ... & ... \\\\\n",
    "\\alpha a_{m1} & \\alpha a_{m2} & \\alpha a_{m3} & ... & \\alpha a_{mn}\n",
    "\\end{bmatrix}\n",
    "$$\n",
    "\n",
    "### Square Matrix Multiplication\n",
    "\n",
    "- When multiplying 2 matrices we need to consider the dimensions of each, as multiplication is not possible if the dimensions are not aligned appropriately.\n",
    "- The easiest multiplication to consider is that of two **square matrices** of the same dimensions $n \\times n$.\n",
    "- A square matrix is a matrix that has the same number of rows and columns.\n",
    "\n",
    "$$\n",
    "P =\n",
    "\\begin{bmatrix}\n",
    "p_{11} & p_{12} & p_{13} \\\\\n",
    "p_{21} & p_{22} & p_{23} \\\\\n",
    "p_{31} & p_{32} & p_{33}\n",
    "\\end{bmatrix}\n",
    "\n",
    "Q =\n",
    "\\begin{bmatrix}\n",
    "q_{11} & q_{12} & q_{13} \\\\\n",
    "q_{21} & q_{22} & q_{23} \\\\\n",
    "q_{31} & q_{32} & q_{33}\n",
    "\\end{bmatrix}\n",
    "$$\n",
    "\n",
    "$$\n",
    "P =\n",
    "\\begin{bmatrix}\n",
    "p_{11}q_{11} + p_{12}q_{21} + p_{13}q_{31} && p_{11}q_{12} + p_{12}q_{22} + p_{13}q_{32} && p_{11}q_{13} + p_{12}q_{23} + p_{13}q_{33} \\\\\n",
    "p_{21}q_{11} + p_{22}q_{21} + p_{23}q_{31} && p_{21}q_{12} + p_{22}q_{22} + p_{23}q_{32} && p_{21}q_{13} + p_{22}q_{23} + p_{23}q_{33} \\\\\n",
    "p_{31}q_{11} + p_{32}q_{21} + p_{33}q_{31} && p_{31}q_{12} + p_{32}q_{12} + p_{33}q_{32} && p_{31}q_{13} + p_{32}q_{23} + p_{33}q_{33}\n",
    "\\end{bmatrix}\n",
    "$$\n",
    "\n",
    "Each element $ij$ in $P \\times Q$ is a result of multiplying all elements in row $i$ of matrix $P$ with the corresponding $j$ elements in column $j$ of matrix $Q$.\n",
    "\n"
   ],
   "cell_type": "markdown",
   "metadata": {}
  },
  {
   "cell_type": "code",
   "execution_count": 25,
   "metadata": {},
   "outputs": [
    {
     "output_type": "stream",
     "name": "stdout",
     "text": [
      "A x B =  [[  6.   4.  -8.]\n [ 18. -25.   0.]\n [ 19.  -1.  88.]]\nDimensions of C = (3, 3)\nDimensions of D = (3, 3)\nDimensions of C x D = (3, 3)\n"
     ]
    }
   ],
   "source": [
    "C = np.array([[4,2,-4], \n",
    "             [9,-11,0],\n",
    "             [6,-0.5,44]])\n",
    "D = np.array([[2,2,-4], \n",
    "             [9,-14,0],\n",
    "             [13,-0.5,44]])\n",
    "\n",
    "CsD = np.add(C, D)\n",
    "print(\"A x B = \", CsD)\n",
    "print(\"Dimensions of C =\", C.shape)\n",
    "print(\"Dimensions of D =\", D.shape)\n",
    "print(\"Dimensions of C x D =\", CsD.shape)"
   ]
  },
  {
   "source": [
    "### Matrix Multiplication\n",
    "\n",
    "If $P$ is a matrix with dimensions $t \\times m$ and $Q$ is a matrix with dimensions $m \\times v$ then:\n",
    "\n",
    "- $P \\times Q$ is possible as the dimensions match. ($P$ has $m$ columns and $Q$ has $m$ rows).\n",
    "- $P \\times Q$ will be a matrix of $t \\times v$. ($t$ rows and $v$ columns).\n",
    "\n",
    "$$\n",
    "P =\n",
    "\\begin{bmatrix}\n",
    "p_{11} & p_{12} & p_{13} \\\\\n",
    "p_{21} & p_{22} & p_{23}\n",
    "\\end{bmatrix}\n",
    "\n",
    "Q =\n",
    "\\begin{bmatrix}\n",
    "q_{11} & q_{12} & q_{13} & q_{14} \\\\\n",
    "q_{21} & q_{22} & q_{23} & q_{24} \\\\\n",
    "q_{31} & q_{32} & q_{33} & q_{34}\n",
    "\\end{bmatrix}\n",
    "$$\n",
    "\n",
    "$$\n",
    "P \\times Q=\n",
    "\\begin{bmatrix}\n",
    "p_{11}q_{11}+p_{12}q_{21}+p_{13}q_{31} & p_{11}q_{12}+p_{12}q_{22} + p_{13}q_{32} & p_{11}q_{13}+p_{12}q_{23}+p_{13}q_{33} &p_{11}q_{14}+p_{12}q_{24}+p_{13}q_{34} \\\\\n",
    "p_{21}q_{11}+p_{22}q_{21}+p_{23}q_{31} &p_{21}q_{12}+p_{22}q_{22}+p_{23}q_{32} &p_{21}q_{13}+p_{22}q_{23}+p_{23}q_{33}&p_{21}q_{14}+p_{22}q_{24}+p_{23}q_{34}\n",
    "\\end{bmatrix}\n",
    "\n",
    "$$"
   ],
   "cell_type": "markdown",
   "metadata": {}
  },
  {
   "source": [
    "A = np.array([0.6,-15,2,5,98])\n",
    "B = np.array([[2,2,-4], \n",
    "             [9,-14,0],\n",
    "             [13,-0.5,44],\n",
    "             [1,9,4],\n",
    "             [0,0,5]])\n",
    "\n",
    "AxB = np.matmul(A, B)\n",
    "print(\"A x B = \", AxB)\n",
    "print(\"Dimensions of A =\", A.shape)\n",
    "print(\"Dimensions of B =\", B.shape)\n",
    "print(\"Dimensions of A x B =\", AxB.shape)"
   ],
   "cell_type": "code",
   "metadata": {},
   "execution_count": 20,
   "outputs": [
    {
     "output_type": "stream",
     "name": "stdout",
     "text": [
      "A x B =  [-102.8  255.2  595.6]\nDimensions of A = (5,)\nDimensions of B = (5, 3)\nDimensions of A x B = (3,)\n"
     ]
    }
   ]
  },
  {
   "source": [
    "### Linear Transformations on Matrices\n",
    "\n",
    "- [Part 1](https://youtu.be/99jYIxBRDww)\n",
    "- [Part 2](https://youtu.be/imtEd8M6__s)"
   ],
   "cell_type": "markdown",
   "metadata": {}
  },
  {
   "source": [],
   "cell_type": "code",
   "metadata": {},
   "execution_count": null,
   "outputs": []
  }
 ]
}